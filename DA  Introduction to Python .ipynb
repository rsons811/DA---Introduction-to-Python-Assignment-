{
 "cells": [
  {
   "cell_type": "markdown",
   "id": "fcefd387-1d1f-4b3f-bcd5-bcad1427a4c5",
   "metadata": {},
   "source": [
    "#  DA - Introduction to Python\n",
    "## Assignment "
   ]
  },
  {
   "cell_type": "markdown",
   "id": "fb18123c-e6e2-4e0a-a0c0-7b7ef5dc97a3",
   "metadata": {},
   "source": [
    "## 1) What are the types of Applications? "
   ]
  },
  {
   "cell_type": "markdown",
   "id": "4a134341-3a27-4e80-9b84-4e016e31fa38",
   "metadata": {},
   "source": [
    "## Applications can be classified into several types based on their purpose, functionality, and the platform they run on. Here are some common types:\n",
    "\n",
    "### 1.Web Applications:\n",
    "Run in a web browser.\n",
    "Accessible over the internet or an intranet.\n",
    "Examples: Google Docs, Facebook, Amazon.\n",
    "\n",
    "## 2.Mobile Applications:\n",
    "Designed for mobile devices like smartphones and tablets.\n",
    "Available through app stores.\n",
    "Examples: WhatsApp, Instagram, Uber.\n",
    "\n",
    "## 3.Desktop Applications:\n",
    "Installed and run on personal computers or laptops.\n",
    "Can be standalone or part of a suite.\n",
    "Examples: Microsoft Office, Adobe Photoshop, VLC Media Player.\n",
    "## 4.Enterprise Applications:\n",
    "Used by organizations to manage business operations.\n",
    "Often complex and require integration with other systems.\n",
    "Examples: SAP, Salesforce, Oracle ERP.\n",
    "\n",
    "## 5.Cloud Applications:\n",
    "Delivered over the internet and run on cloud infrastructure.\n",
    "Scalable and often subscription-based.\n",
    "Examples: Dropbox, Google Drive, AWS services.\n",
    "\n",
    "## 6.Embedded Systems:\n",
    "Specialized applications integrated into hardware.\n",
    "Often used in appliances, cars, and industrial machines.\n",
    "Examples: Firmware in a microwave, software in a car’s GPS system.\n",
    "\n",
    "## 7.Utility Applications:\n",
    "Provide basic tools and functionalities to manage and maintain systems.\n",
    "Examples: Antivirus software, file compression tools, backup software.\n",
    "\n",
    "## 8.Educational Applications:\n",
    "Used for learning and teaching purposes.\n",
    "Include interactive tools and resources.\n",
    "Examples: Duolingo, Khan Academy, Coursera.\n",
    "\n",
    "## 9.Productivity Applications:\n",
    "Help users complete tasks more efficiently.\n",
    "Examples: Trello, Evernote, Slack.\n",
    "\n",
    "## 10.Multimedia Applications:\n",
    "Allow users to create, edit, and view multimedia content.\n",
    "Examples: Adobe Premiere Pro, Audacity, VLC Media Player.\n",
    "\n",
    "## 11.Financial Applications:\n",
    "Assist with managing finances, budgeting, and investments.\n",
    "Examples: QuickBooks, Mint, Robinhood.\n",
    "\n",
    "## 12.Health and Fitness Applications:\n",
    "Track health metrics, provide workout routines, and offer medical advice.\n",
    "Examples: MyFitnessPal, Fitbit, WebMD."
   ]
  },
  {
   "cell_type": "markdown",
   "id": "6e3b3e8d-d234-40fd-ba94-1df7bc95121a",
   "metadata": {},
   "source": [
    "# 2) What is programing?"
   ]
  },
  {
   "cell_type": "markdown",
   "id": "6ec0b69e-131e-4a64-a3ca-f8bb4245b9df",
   "metadata": {},
   "source": [
    "## Programming, or coding, involves writing instructions for computers to perform specific tasks. There are many programming languages, each with unique features and use cases. Here are some common types of programming languages and their uses:"
   ]
  },
  {
   "cell_type": "markdown",
   "id": "302b19b2-3dba-4f2a-9b61-d2974caee220",
   "metadata": {},
   "source": [
    "## High-Level Programming Languages\n",
    "### 1.Python:\n",
    "General-purpose, high-level language.\n",
    "Known for readability and simplicity.\n",
    "Used in web development, data science, automation, artificial intelligence, and more.\n",
    "\n",
    "### 2.JavaScript:\n",
    "High-level, often used for web development.\n",
    "Runs in web browsers to create interactive web pages.\n",
    "Also used in server-side development with Node.js.\n",
    "\n",
    "### 3.Java:\n",
    "Object-oriented, high-level language.\n",
    "Known for portability across platforms due to the Java Virtual Machine (JVM).\n",
    "Commonly used in enterprise environments, Android app development, and large systems.\n",
    "\n",
    "### 4.C++:\n",
    "General-purpose, high-performance language.\n",
    "Supports both procedural and object-oriented programming.\n",
    "Used in system/software development, game development, and performance-critical applications.\n",
    "\n",
    "### 5.C+:\n",
    "Developed by Microsoft, used for a wide range of applications.\n",
    "Common in developing Windows applications and games using Unity.\n",
    "\n",
    "### 6.Ruby:\n",
    "High-level, interpreted language known for its simplicity and productivity.\n",
    "Popular for web development, especially with the Ruby on Rails framework.\n",
    "\n",
    "### 7.PHP:\n",
    "Server-side scripting language.\n",
    "Widely used for web development and creating dynamic web pages.\n",
    "\n",
    "### 8.Swift:\n",
    "Developed by Apple for iOS and macOS development.\n",
    "Known for safety and performance.\n",
    "\n",
    "### 9.Go (Golang):\n",
    "Developed by Google.\n",
    "Known for simplicity, concurrency support, and performance.\n",
    "Used in cloud services, server-side applications, and infrastructure tools.\n",
    "\n",
    "## Low-Level Programming Languages\n",
    "### 1.C:\n",
    "General-purpose, procedural language.\n",
    "Provides low-level access to memory and system resources.\n",
    "Often used in operating systems, embedded systems, and high-performance applications.\n",
    "\n",
    "### 2.Assembly Language:\n",
    "Low-level language that is closely related to machine code.\n",
    "Specific to a computer architecture.\n",
    "Used in performance-critical applications and hardware manipulation.\n",
    "\n",
    "## Scripting Languages\n",
    "### 1.Bash:\n",
    "Unix shell and command language.\n",
    "Used for scripting and automating tasks in Unix-based systems.\n",
    "\n",
    "### 2.Perl:\n",
    "High-level, interpreted language.\n",
    "Known for text processing capabilities.\n",
    "Used in system administration, web development, and network programming.\n",
    "\n",
    "### 3.Lua:\n",
    "Lightweight, embeddable scripting language.\n",
    "Often used in game development for scripting game logic.\n",
    "\n",
    "### 4.Domain-Specific Languages\n",
    "## 1.SQL:\n",
    "Specialized language for managing and querying relational databases.\n",
    "Used in database management systems like MySQL, PostgreSQL, and SQLite.\n",
    "\n",
    "## 2.HTML/CSS:\n",
    "Markup and styling languages used for creating and designing web pages.\n",
    "HTML structures the content, while CSS styles it.\n",
    "\n",
    "## Functional Programming Languages\n",
    "### 1.Haskell:\n",
    "Purely functional, high-level language.\n",
    "Known for its strong type system and immutability.\n",
    "\n",
    "### 2.Lisp:\n",
    "Family of functional languages.\n",
    "Known for its symbolic expression syntax and powerful macro system.\n",
    "\n",
    "### 3.Erlang:\n",
    "Designed for concurrent, distributed systems.\n",
    "Used in telecommunications, messaging systems, and real-time applications.\n",
    "\n",
    "## Other Notable Languages\n",
    "### 1.R:\n",
    "Language and environment for statistical computing and graphics.\n",
    "Widely used in data analysis, statistics, and research.\n",
    "\n",
    "### 2.MATLAB:\n",
    "High-level language and environment for numerical computing.\n",
    "Used in engineering, scientific research, and mathematics."
   ]
  },
  {
   "cell_type": "markdown",
   "id": "cd60ca5c-1acc-4529-8911-ebf9046706c0",
   "metadata": {},
   "source": [
    "# NOTE:These languages vary in their syntax, paradigms (e.g., object-oriented, procedural, functional), and best use cases. The choice of language often depends on the specific requirements of a project and the preferences of the development team."
   ]
  },
  {
   "cell_type": "markdown",
   "id": "ce899bba-d799-4cb4-a7c1-c88816148c2f",
   "metadata": {},
   "source": [
    "# 3) What is Python? "
   ]
  },
  {
   "cell_type": "markdown",
   "id": "2c10909b-957b-4a2c-8ebe-f598e2c02f61",
   "metadata": {},
   "source": [
    "High-Level Programming Languages\n",
    "Python:\n",
    "General-purpose, high-level language.\n",
    "Known for readability and simplicity.\n",
    "Used in web development, data science, automation, artificial intelligence, and more."
   ]
  },
  {
   "cell_type": "markdown",
   "id": "65cb81ca-abb5-4f58-9f03-556ce26b07d7",
   "metadata": {},
   "source": [
    "# 4) Write a Python program to check if a number is positive, negative or zero. "
   ]
  },
  {
   "cell_type": "code",
   "execution_count": 16,
   "id": "0147ffc7-b5e0-4c2e-988a-4412a8cac6a9",
   "metadata": {},
   "outputs": [
    {
     "name": "stdin",
     "output_type": "stream",
     "text": [
      "Enter a number:  15\n"
     ]
    }
   ],
   "source": [
    "# Function to check if a number is positive, negative or zero\n",
    "def check_number(num):\n",
    "    if num > 0:\n",
    "        return \"The number is positive.\"\n",
    "    elif num < 0:\n",
    "        return \"The number is negative.\"\n",
    "    else:\n",
    "        return \"The number is zero.\"\n",
    "\n",
    "# Input from the user\n",
    "number = float(input(\"Enter a number: \"))\n",
    "\n",
    "# Check the number and print the result\n",
    "result = check_number(number)"
   ]
  },
  {
   "cell_type": "code",
   "execution_count": 18,
   "id": "43e3afa5-ca07-49d5-9e1c-1d07f391fbdd",
   "metadata": {},
   "outputs": [
    {
     "name": "stdout",
     "output_type": "stream",
     "text": [
      "The number is positive.\n"
     ]
    }
   ],
   "source": [
    "print(result)\n"
   ]
  },
  {
   "cell_type": "code",
   "execution_count": 20,
   "id": "a6f4af0d-3bf6-44a0-8e4c-a126bcf50248",
   "metadata": {},
   "outputs": [
    {
     "name": "stdin",
     "output_type": "stream",
     "text": [
      "Enter a number:  -5\n"
     ]
    }
   ],
   "source": [
    "def check_number(num):\n",
    "    if num > 0:\n",
    "        return \"The number is positive.\"\n",
    "    elif num < 0:\n",
    "        return \"The number is negative.\"\n",
    "    else:\n",
    "        return \"The number is zero.\"\n",
    "\n",
    "# Input from the user\n",
    "number = float(input(\"Enter a number: \"))\n",
    "\n",
    "# Check the number and print the result\n",
    "result = check_number(number)"
   ]
  },
  {
   "cell_type": "code",
   "execution_count": 22,
   "id": "cfc6494a-8d42-46fb-b5b0-59f02a08ffa2",
   "metadata": {},
   "outputs": [
    {
     "name": "stdout",
     "output_type": "stream",
     "text": [
      "The number is negative.\n"
     ]
    }
   ],
   "source": [
    "print(result)"
   ]
  },
  {
   "cell_type": "code",
   "execution_count": 24,
   "id": "a20e9027-59c8-4733-8a37-c77c7249174d",
   "metadata": {},
   "outputs": [
    {
     "name": "stdin",
     "output_type": "stream",
     "text": [
      "Enter a number:  0\n"
     ]
    }
   ],
   "source": [
    "def check_number(num):\n",
    "    if num > 0:\n",
    "        return \"The number is positive.\"\n",
    "    elif num < 0:\n",
    "        return \"The number is negative.\"\n",
    "    else:\n",
    "        return \"The number is zero.\"\n",
    "\n",
    "# Input from the user\n",
    "number = float(input(\"Enter a number: \"))\n",
    "\n",
    "# Check the number and print the result\n",
    "result = check_number(number)"
   ]
  },
  {
   "cell_type": "code",
   "execution_count": 26,
   "id": "d290c6e8-987e-4afe-b821-d5563511297b",
   "metadata": {},
   "outputs": [
    {
     "name": "stdout",
     "output_type": "stream",
     "text": [
      "The number is zero.\n"
     ]
    }
   ],
   "source": [
    "print(result)"
   ]
  },
  {
   "cell_type": "markdown",
   "id": "89363bf1-cc4b-4b44-b292-3f19941fa7bf",
   "metadata": {},
   "source": [
    "# 5)Write a Python program to get the Factorial number of given numbers."
   ]
  },
  {
   "cell_type": "code",
   "execution_count": 31,
   "id": "ae69d93d-7be8-4196-84ae-834277e7a84b",
   "metadata": {},
   "outputs": [
    {
     "name": "stdin",
     "output_type": "stream",
     "text": [
      "Enter a number to find its factorial:  5\n"
     ]
    },
    {
     "name": "stdout",
     "output_type": "stream",
     "text": [
      "The factorial of 5 is 120.\n"
     ]
    }
   ],
   "source": [
    "# Function to calculate factorial\n",
    "def factorial(n):\n",
    "    if n == 0:\n",
    "        return 1\n",
    "    else:\n",
    "        return n * factorial(n - 1)\n",
    "\n",
    "# Input from the user\n",
    "number = int(input(\"Enter a number to find its factorial: \"))\n",
    "\n",
    "# Check if the number is negative\n",
    "if number < 0:\n",
    "    print(\"Factorial is not defined for negative numbers.\")\n",
    "else:\n",
    "    # Calculate factorial\n",
    "    result = factorial(number)\n",
    "    # Print the result\n",
    "    print(f\"The factorial of {number} is {result}.\")"
   ]
  },
  {
   "cell_type": "markdown",
   "id": "1fea93f5-3a82-4800-8684-b891843c200e",
   "metadata": {},
   "source": [
    "# 6)Write a Python program to get the Fibonacci series of given range. "
   ]
  },
  {
   "cell_type": "code",
   "execution_count": 34,
   "id": "432ea379-52f0-4eb7-9e9d-9b483fa3a8c6",
   "metadata": {},
   "outputs": [
    {
     "name": "stdin",
     "output_type": "stream",
     "text": [
      "Enter the number of terms for the Fibonacci series:  4\n"
     ]
    },
    {
     "name": "stdout",
     "output_type": "stream",
     "text": [
      "The Fibonacci series of 4 terms is: [0, 1, 1, 2]\n"
     ]
    }
   ],
   "source": [
    "# Function to generate Fibonacci series up to n terms\n",
    "def fibonacci_series(n):\n",
    "    series = []\n",
    "    a, b = 0, 1\n",
    "    while len(series) < n:\n",
    "        series.append(a)\n",
    "        a, b = b, a + b\n",
    "    return series\n",
    "\n",
    "# Input from the user\n",
    "number_of_terms = int(input(\"Enter the number of terms for the Fibonacci series: \"))\n",
    "\n",
    "# Check if the number of terms is non-negative\n",
    "if number_of_terms <= 0:\n",
    "    print(\"Please enter a positive integer.\")\n",
    "else:\n",
    "    # Generate Fibonacci series\n",
    "    result = fibonacci_series(number_of_terms)\n",
    "    # Print the result\n",
    "    print(f\"The Fibonacci series of {number_of_terms} terms is: {result}\")"
   ]
  },
  {
   "cell_type": "markdown",
   "id": "a179b197-83f3-4b43-9b37-cd65bbd56786",
   "metadata": {},
   "source": [
    "# 7)How memory is managed in Python? "
   ]
  },
  {
   "cell_type": "markdown",
   "id": "6a6869d7-62d7-4d17-b501-d1e812fb43dc",
   "metadata": {},
   "source": [
    "## Memory management in Python involves a combination of techniques to handle memory allocation, deallocation, and garbage collection. Here’s an overview of how memory is managed in Python:\n",
    "## 1.Memory Allocation\n",
    "#### 1.Object Allocation:\n",
    "Python uses a private heap space to store all objects and data structures. This heap is managed by the Python memory manager.\n",
    "The allocation of heap space for Python objects is handled by the Python memory manager through an internal object allocator.\n",
    "\n",
    "#### 2.Small Object Allocator:\n",
    "Python has a specialized allocator for small objects (less than 256 bytes). This allocator pools memory to reduce fragmentation and improve performance.\n",
    "\n",
    "## 2.Garbage Collection\n",
    "Python uses an automatic garbage collection mechanism to manage memory and reclaim unused memory. There are two main techniques used:\n",
    "\n",
    "#### 1.Reference Counting:\n",
    "Every object in Python maintains a reference count, which keeps track of the number of references pointing to that object.\n",
    "When an object's reference count drops to zero, the memory occupied by the object is deallocated.\n"
   ]
  },
  {
   "cell_type": "code",
   "execution_count": 38,
   "id": "bb43f96d-1f07-4f0c-ba1e-4d138cb51506",
   "metadata": {},
   "outputs": [],
   "source": [
    "a = [1, 2, 3]  # Reference count of the list is 1\n",
    "b = a          # Reference count of the list is 2\n",
    "del a          # Reference count of the list is 1\n",
    "del b          # Reference count of the list is 0, memory is deallocated"
   ]
  },
  {
   "cell_type": "markdown",
   "id": "5005c434-1b3a-45bf-a89a-270779e89646",
   "metadata": {},
   "source": [
    "### 2.Cycle Detection:\n",
    "\n",
    "Reference counting cannot handle reference cycles (i.e., when two or more objects reference each other).\n",
    "Python's garbage collector has a cycle detection mechanism to find and collect reference cycles.\n",
    "The garbage collector periodically searches for objects that are no longer reachable and collects them."
   ]
  },
  {
   "cell_type": "markdown",
   "id": "2d51c617-abae-4c7a-b594-419b340c63f5",
   "metadata": {},
   "source": [
    "# 3.Memory Pools"
   ]
  },
  {
   "cell_type": "markdown",
   "id": "0db4e2b5-2678-4c3e-9143-1d1f9c2b225d",
   "metadata": {},
   "source": [
    "## 1.Memory Pools:\n",
    "Python’s memory manager uses memory pools to allocate and manage memory for objects of similar sizes.\n",
    "This helps in reducing fragmentation and improving memory allocation performance."
   ]
  },
  {
   "cell_type": "markdown",
   "id": "c3312323-cd2f-4a3d-b0b0-61dced463f47",
   "metadata": {},
   "source": [
    "# 4.Manual Memory Management\n",
    "# 1.del Statement:\n",
    "The del statement can be used to delete references to an object, potentially triggering garbage collection if the reference count drops to zero.\n"
   ]
  },
  {
   "cell_type": "code",
   "execution_count": 46,
   "id": "761dfa23-d002-487a-a7e5-c696bebef043",
   "metadata": {},
   "outputs": [],
   "source": [
    "x = 10\n",
    "del x  # Deletes the reference to the integer object 10"
   ]
  },
  {
   "cell_type": "markdown",
   "id": "e07d6fb8-0653-4934-b2b3-56b8b6fb4a93",
   "metadata": {},
   "source": [
    "## 2.gc Module:\n",
    "Python provides the gc module to interact with the garbage collector.\n",
    "It can be used to manually trigger garbage collection, adjust garbage collection thresholds, and get information about the collector’s activity."
   ]
  },
  {
   "cell_type": "code",
   "execution_count": 49,
   "id": "a353aaa6-bf7b-4044-8fd0-f8999e53d220",
   "metadata": {},
   "outputs": [
    {
     "data": {
      "text/plain": [
       "192"
      ]
     },
     "execution_count": 49,
     "metadata": {},
     "output_type": "execute_result"
    }
   ],
   "source": [
    "import gc\n",
    "gc.collect()  # Manually triggers garbage collection"
   ]
  },
  {
   "cell_type": "markdown",
   "id": "9c0dbe0c-9680-4bed-9ba8-c2c0b7188a6b",
   "metadata": {},
   "source": [
    "# 5.Memory Management Features"
   ]
  },
  {
   "cell_type": "markdown",
   "id": "918ade62-bf09-4d6c-8c8b-15fe0ab9badf",
   "metadata": {},
   "source": [
    "## 1.Dynamic Typing:\n",
    "Python is dynamically typed, meaning memory allocation for variables happens at runtime based on the object type and value.\n",
    "\n",
    "## 2.Memory Reuse:\n",
    "Python reuses memory for immutable objects (like integers and strings) to optimize memory usage.\n",
    "Small integers and interned strings are examples where Python reuses memory.\n",
    "\n",
    "## 3.Custom Memory Allocators:\n",
    "Advanced users can write custom memory allocators to manage memory allocation more efficiently for specific use cases."
   ]
  },
  {
   "cell_type": "markdown",
   "id": "651ee124-5a1c-4f82-8cae-1fd39cb9a61d",
   "metadata": {},
   "source": [
    "# NOTE: Memory management in Python is designed to be efficient and automated, allowing developers to focus on writing code without worrying about low-level memory handling. However, understanding how memory management works can help in writing more efficient and optimized code."
   ]
  },
  {
   "cell_type": "markdown",
   "id": "b92db738-cb37-4c12-b66d-70b91b0dae5a",
   "metadata": {},
   "source": [
    "# 8)What is the purpose continuing statement in python"
   ]
  },
  {
   "cell_type": "markdown",
   "id": "f48688f1-23ff-47e9-87f0-f323034828ff",
   "metadata": {},
   "source": [
    "## In Python, the continue statement is used inside loops to skip the rest of the code inside the current iteration and immediately jump to the next iteration of the loop. It is often used when you want to skip certain conditions or values without breaking the entire loop."
   ]
  },
  {
   "cell_type": "code",
   "execution_count": 4,
   "id": "ce9a74f6-e871-4fd0-8b2a-5aab898aa1ef",
   "metadata": {},
   "outputs": [
    {
     "name": "stdout",
     "output_type": "stream",
     "text": [
      "1\n",
      "3\n",
      "5\n",
      "7\n",
      "9\n"
     ]
    }
   ],
   "source": [
    "for num in range(1, 11):\n",
    "    if num % 2 == 0:  # Check if the number is even\n",
    "        continue  # Skip the rest of the code for even numbers\n",
    "    print(num)  # This will only execute for odd numbers"
   ]
  },
  {
   "cell_type": "markdown",
   "id": "5b577bcf-bd33-43a4-b095-7030629d1cb6",
   "metadata": {},
   "source": [
    "### In this example:\n",
    "\n",
    "1.The loop iterates over numbers from 1 to 10.\n",
    "\n",
    "2.The if statement checks if the current number is even.\n",
    "\n",
    "3.If the number is even, the continue statement skips the rest of the loop body, and the loop proceeds to the next iteration.\n",
    "\n",
    "4.If the number is odd, it is printed."
   ]
  },
  {
   "cell_type": "markdown",
   "id": "005804a9-d2f7-46bb-ba38-99b3960c60b7",
   "metadata": {},
   "source": [
    "# 9) Write python program that swap two number with temp variable and without temp variable. "
   ]
  },
  {
   "cell_type": "code",
   "execution_count": 10,
   "id": "6e2781a5-790c-48bb-8473-d2c4eb94ba86",
   "metadata": {},
   "outputs": [
    {
     "name": "stdout",
     "output_type": "stream",
     "text": [
      "Before swap: a = 5, b = 10\n",
      "After swap: a = 10, b = 5\n"
     ]
    }
   ],
   "source": [
    "# Swapping without a temporary variable using tuple unpacking\n",
    "def swap_tuple_unpacking(a, b):\n",
    "    print(f\"Before swap: a = {a}, b = {b}\")\n",
    "    a, b = b, a\n",
    "    print(f\"After swap: a = {a}, b = {b}\")\n",
    "\n",
    "# Example usage\n",
    "a = 5\n",
    "b = 10\n",
    "swap_tuple_unpacking(a, b)"
   ]
  },
  {
   "cell_type": "markdown",
   "id": "4c7f421a-5b0c-44ac-9fbb-ce626fff0e47",
   "metadata": {},
   "source": [
    "# 10) Write a Python program to find whether a given number is even or odd, print out an appropriate message to the user. "
   ]
  },
  {
   "cell_type": "code",
   "execution_count": 13,
   "id": "c2dc672c-cd85-41c3-8704-974a0d7b064c",
   "metadata": {},
   "outputs": [
    {
     "name": "stdin",
     "output_type": "stream",
     "text": [
      "Enter a number:  5\n"
     ]
    },
    {
     "name": "stdout",
     "output_type": "stream",
     "text": [
      "5 is odd.\n"
     ]
    }
   ],
   "source": [
    "# Function to determine if a number is even or odd\n",
    "def check_even_odd(number):\n",
    "    if number % 2 == 0:\n",
    "        print(f\"{number} is even.\")\n",
    "    else:\n",
    "        print(f\"{number} is odd.\")\n",
    "\n",
    "# Example usage\n",
    "number = int(input(\"Enter a number: \"))\n",
    "check_even_odd(number)"
   ]
  },
  {
   "cell_type": "markdown",
   "id": "83cfd699-f374-43cd-839a-3051f1487d51",
   "metadata": {},
   "source": [
    "# 11) Write a Python program to test whether a passed letter is a vowel or not."
   ]
  },
  {
   "cell_type": "code",
   "execution_count": 16,
   "id": "b1231edf-adf8-45cd-ad37-eef72e410180",
   "metadata": {},
   "outputs": [
    {
     "name": "stdin",
     "output_type": "stream",
     "text": [
      "Enter a letter:  g\n"
     ]
    },
    {
     "name": "stdout",
     "output_type": "stream",
     "text": [
      "g is not a vowel.\n"
     ]
    }
   ],
   "source": [
    "# Function to check if a letter is a vowel\n",
    "def is_vowel(letter):\n",
    "    vowels = 'aeiouAEIOU'\n",
    "    if letter in vowels:\n",
    "        return True\n",
    "    else:\n",
    "        return False\n",
    "\n",
    "# Example usage\n",
    "letter = input(\"Enter a letter: \")\n",
    "\n",
    "# Ensure that only a single letter is processed\n",
    "if len(letter) == 1 and letter.isalpha():\n",
    "    if is_vowel(letter):\n",
    "        print(f\"{letter} is a vowel.\")\n",
    "    else:\n",
    "        print(f\"{letter} is not a vowel.\")\n",
    "else:\n",
    "    print(\"Please enter a single letter.\")"
   ]
  },
  {
   "cell_type": "markdown",
   "id": "523cf850-6de6-438b-bd0a-3b0b15468c38",
   "metadata": {},
   "source": [
    "# 12) Write a Python program to sum of three given integers. However, if two values are equal sum will be zero. "
   ]
  },
  {
   "cell_type": "code",
   "execution_count": 21,
   "id": "275a6c39-8ab7-4fbe-b701-4491b8ee23fc",
   "metadata": {},
   "outputs": [
    {
     "name": "stdin",
     "output_type": "stream",
     "text": [
      "Enter the first integer:  1\n",
      "Enter the second integer:  2\n",
      "Enter the third integer:  3\n"
     ]
    },
    {
     "name": "stdout",
     "output_type": "stream",
     "text": [
      "The result is: 6\n"
     ]
    }
   ],
   "source": [
    "# Function to calculate the sum of three integers with the given condition\n",
    "def sum_of_three(a, b, c):\n",
    "    if a == b or b == c or a == c:\n",
    "        return 0\n",
    "    else:\n",
    "        return a + b + c\n",
    "\n",
    "# Example usage\n",
    "a = int(input(\"Enter the first integer: \"))\n",
    "b = int(input(\"Enter the second integer: \"))\n",
    "c = int(input(\"Enter the third integer: \"))\n",
    "\n",
    "result = sum_of_three(a, b, c)\n",
    "print(f\"The result is: {result}\")"
   ]
  },
  {
   "cell_type": "markdown",
   "id": "166e3204-26c1-4e32-bcdf-d06bb824155f",
   "metadata": {},
   "source": [
    "# 13) Write a Python program that will return true if the two given integer values are equal or their sum or difference is 5. "
   ]
  },
  {
   "cell_type": "code",
   "execution_count": 24,
   "id": "bdcfee9c-4f55-4bba-b44b-9ec8bd5d75e0",
   "metadata": {},
   "outputs": [
    {
     "name": "stdin",
     "output_type": "stream",
     "text": [
      "Enter the first integer:  3\n",
      "Enter the second integer:  2\n"
     ]
    },
    {
     "name": "stdout",
     "output_type": "stream",
     "text": [
      "True\n"
     ]
    }
   ],
   "source": [
    "# Function to check the given conditions\n",
    "def check_values(a, b):\n",
    "    if a == b or a + b == 5 or abs(a - b) == 5:\n",
    "        return True\n",
    "    else:\n",
    "        return False\n",
    "\n",
    "# Example usage\n",
    "a = int(input(\"Enter the first integer: \"))\n",
    "b = int(input(\"Enter the second integer: \"))\n",
    "\n",
    "result = check_values(a, b)\n",
    "print(result)"
   ]
  },
  {
   "cell_type": "markdown",
   "id": "02746769-1ed4-4c34-8f29-dacc5ee56c8e",
   "metadata": {},
   "source": [
    "# 14)Write a python program to sum of the first n positive integers. "
   ]
  },
  {
   "cell_type": "code",
   "execution_count": 27,
   "id": "1ec3316a-c29a-43fa-be39-5f40fbecc00a",
   "metadata": {},
   "outputs": [
    {
     "name": "stdin",
     "output_type": "stream",
     "text": [
      "Enter a positive integer:  2\n"
     ]
    },
    {
     "name": "stdout",
     "output_type": "stream",
     "text": [
      "The sum of the first 2 positive integers is: 3\n"
     ]
    }
   ],
   "source": [
    "# Function to calculate the sum of the first n positive integers\n",
    "def sum_of_first_n(n):\n",
    "    # Using the formula n * (n + 1) / 2 for the sum of the first n positive integers\n",
    "    return n * (n + 1) // 2\n",
    "\n",
    "# Example usage\n",
    "n = int(input(\"Enter a positive integer: \"))\n",
    "\n",
    "if n > 0:\n",
    "    result = sum_of_first_n(n)\n",
    "    print(f\"The sum of the first {n} positive integers is: {result}\")\n",
    "else:\n",
    "    print(\"Please enter a positive integer.\")"
   ]
  },
  {
   "cell_type": "markdown",
   "id": "da445627-f8df-403e-b482-e387f8e2fa71",
   "metadata": {},
   "source": [
    "# 15)Write a Python program to calculate the length of a string. "
   ]
  },
  {
   "cell_type": "code",
   "execution_count": 30,
   "id": "7faf7736-fb02-48f6-a0a8-0a13fc3850b5",
   "metadata": {},
   "outputs": [
    {
     "name": "stdin",
     "output_type": "stream",
     "text": [
      "Enter a string:  rahul\n"
     ]
    },
    {
     "name": "stdout",
     "output_type": "stream",
     "text": [
      "The length of the string is: 5\n"
     ]
    }
   ],
   "source": [
    "# Function to calculate the length of a string\n",
    "def calculate_length(input_string):\n",
    "    return len(input_string)\n",
    "\n",
    "# Example usage\n",
    "input_string = input(\"Enter a string: \")\n",
    "\n",
    "length = calculate_length(input_string)\n",
    "print(f\"The length of the string is: {length}\")"
   ]
  },
  {
   "cell_type": "code",
   "execution_count": 32,
   "id": "2463635a-9261-4f77-b574-0b97dc6b4378",
   "metadata": {},
   "outputs": [
    {
     "name": "stdout",
     "output_type": "stream",
     "text": [
      "rahul\n"
     ]
    },
    {
     "data": {
      "text/plain": [
       "5"
      ]
     },
     "execution_count": 32,
     "metadata": {},
     "output_type": "execute_result"
    }
   ],
   "source": [
    "string=(\"rahul\")\n",
    "print(string)\n",
    "len(string)"
   ]
  },
  {
   "cell_type": "markdown",
   "id": "70a8e93a-c7b4-4c6a-b87a-57bfdbd1fe06",
   "metadata": {},
   "source": [
    "# 16) Write a Python program to count the number of characters (character frequency) in a string "
   ]
  },
  {
   "cell_type": "code",
   "execution_count": 35,
   "id": "f1e9e244-8159-425a-90ab-6c98afe348e0",
   "metadata": {},
   "outputs": [
    {
     "name": "stdin",
     "output_type": "stream",
     "text": [
      "Enter a string:  rahul\n"
     ]
    },
    {
     "name": "stdout",
     "output_type": "stream",
     "text": [
      "Character frequency:\n",
      "r: 1\n",
      "a: 1\n",
      "h: 1\n",
      "u: 1\n",
      "l: 1\n"
     ]
    }
   ],
   "source": [
    "# Function to count the frequency of characters in a string\n",
    "def char_frequency(input_string):\n",
    "    frequency = {}\n",
    "    for char in input_string:\n",
    "        if char in frequency:\n",
    "            frequency[char] += 1\n",
    "        else:\n",
    "            frequency[char] = 1\n",
    "    return frequency\n",
    "\n",
    "# Example usage\n",
    "input_string = input(\"Enter a string: \")\n",
    "\n",
    "frequency = char_frequency(input_string)\n",
    "print(\"Character frequency:\")\n",
    "for char, count in frequency.items():\n",
    "    print(f\"{char}: {count}\")"
   ]
  },
  {
   "cell_type": "markdown",
   "id": "a9d97621-88ce-4840-9a52-3732b845db5b",
   "metadata": {},
   "source": [
    "# 17)What are negative indexes and why are they used?"
   ]
  },
  {
   "cell_type": "code",
   "execution_count": 38,
   "id": "c35526a8-6513-41d9-8652-ea6fac8a5aa9",
   "metadata": {},
   "outputs": [
    {
     "name": "stdout",
     "output_type": "stream",
     "text": [
      "[30, 40, 50]\n",
      "[10, 20]\n",
      "[20, 30, 40]\n"
     ]
    }
   ],
   "source": [
    "# Example list\n",
    "my_list = [10, 20, 30, 40, 50]\n",
    "\n",
    "# Slicing with negative indexes\n",
    "print(my_list[-3:])   # Output: [30, 40, 50] (last three elements)\n",
    "print(my_list[:-3])   # Output: [10, 20] (all but the last three elements)\n",
    "print(my_list[-4:-1]) # Output: [20, 30, 40] (elements from the fourth-to-last to the second-to-last)"
   ]
  },
  {
   "cell_type": "markdown",
   "id": "5df4b630-e7d8-467d-af01-8a015251d96c",
   "metadata": {},
   "source": [
    "# 18)Write a Python program to count occurrences of a substring in a string. "
   ]
  },
  {
   "cell_type": "code",
   "execution_count": 41,
   "id": "346fb7b4-9ee6-4247-8315-905d5a016c92",
   "metadata": {},
   "outputs": [
    {
     "name": "stdin",
     "output_type": "stream",
     "text": [
      "Enter the main string:  rahul is the best person\n",
      "Enter the substring to count:  he is doing his job very effectly\n"
     ]
    }
   ],
   "source": [
    "def count_substring_occurrences(main_string, substring):\n",
    "    count = 0\n",
    "    start_index = 0\n",
    "    while True:\n",
    "        start_index = main_string.find(substring, start_index)\n",
    "        if start_index == -1:\n",
    "            break\n",
    "        count += 1\n",
    "        start_index += 1  # Move to the next character after the last match\n",
    "    return count\n",
    "\n",
    "# Example usage\n",
    "main_string = input(\"Enter the main string: \")\n",
    "substring = input(\"Enter the substring to count: \")"
   ]
  },
  {
   "cell_type": "markdown",
   "id": "43b6320a-9950-4df3-8054-5f8fe9724c99",
   "metadata": {},
   "source": [
    "# 19) Write a Python program to count the occurrences of each word in a given sentence"
   ]
  },
  {
   "cell_type": "code",
   "execution_count": 44,
   "id": "252041a4-c68a-49bf-a83d-023d022470fd",
   "metadata": {},
   "outputs": [
    {
     "name": "stdin",
     "output_type": "stream",
     "text": [
      "Enter a sentence:  rahil is great\n"
     ]
    },
    {
     "name": "stdout",
     "output_type": "stream",
     "text": [
      "Word occurrences:\n",
      "rahil: 1\n",
      "is: 1\n",
      "great: 1\n"
     ]
    }
   ],
   "source": [
    "def count_word_occurrences(sentence):\n",
    "    # Split the sentence into words\n",
    "    words = sentence.split()\n",
    "\n",
    "    # Initialize an empty dictionary to store word counts\n",
    "    word_count = {}\n",
    "\n",
    "    # Count occurrences of each word\n",
    "    for word in words:\n",
    "        if word in word_count:\n",
    "            word_count[word] += 1\n",
    "        else:\n",
    "            word_count[word] = 1\n",
    "\n",
    "    return word_count\n",
    "\n",
    "# Example usage\n",
    "sentence = input(\"Enter a sentence: \")\n",
    "\n",
    "# Call the function to count word occurrences\n",
    "word_counts = count_word_occurrences(sentence)\n",
    "\n",
    "# Print the word counts\n",
    "print(\"Word occurrences:\")\n",
    "for word, count in word_counts.items():\n",
    "    print(f\"{word}: {count}\")"
   ]
  },
  {
   "cell_type": "markdown",
   "id": "95d19262-c489-40f7-acce-bd4eaa9a311c",
   "metadata": {},
   "source": [
    "# 20) Write a Python program to get a single string from two given strings, separated by a space and swap the first two characters of each string. "
   ]
  },
  {
   "cell_type": "code",
   "execution_count": 49,
   "id": "0ab752f1-4b13-4824-b957-47f19bfdbec4",
   "metadata": {},
   "outputs": [
    {
     "name": "stdin",
     "output_type": "stream",
     "text": [
      "Enter the first string:  rahul \n",
      "Enter the second string:  rajput is the best\n"
     ]
    },
    {
     "name": "stdout",
     "output_type": "stream",
     "text": [
      "The result string with swapped first two characters is: rahul  rajput is the best\n"
     ]
    }
   ],
   "source": [
    "def swap_first_two_chars(str1, str2):\n",
    "    # Swap first two characters of each string\n",
    "    new_str1 = str2[:2] + str1[2:]\n",
    "    new_str2 = str1[:2] + str2[2:]\n",
    "\n",
    "    # Concatenate the two swapped strings with a space in between\n",
    "    result = new_str1 + ' ' + new_str2\n",
    "    return result\n",
    "\n",
    "# Example usage\n",
    "string1 = input(\"Enter the first string: \")\n",
    "string2 = input(\"Enter the second string: \")\n",
    "\n",
    "# Call the function to swap and concatenate strings\n",
    "result_string = swap_first_two_chars(string1, string2)\n",
    "\n",
    "# Print the resulting string\n",
    "print(f\"The result string with swapped first two characters is: {result_string}\")"
   ]
  },
  {
   "cell_type": "markdown",
   "id": "1e7d14c6-f408-4578-ab55-9677d2208250",
   "metadata": {},
   "source": [
    "# 21) Write a Python program to add 'in' at the end of a given string (length should be at least 3). If the given string already ends with 'ing' then add 'ly' instead if the string length of the given string is less than 3, leave it unchanged. "
   ]
  },
  {
   "cell_type": "code",
   "execution_count": 52,
   "id": "4661fd78-ad3e-44db-bd87-9c37f944186f",
   "metadata": {},
   "outputs": [
    {
     "name": "stdin",
     "output_type": "stream",
     "text": [
      "Enter a string:  rahul\n"
     ]
    },
    {
     "name": "stdout",
     "output_type": "stream",
     "text": [
      "The modified string is: rahuling\n"
     ]
    }
   ],
   "source": [
    "def add_ing_or_ly(input_string):\n",
    "    if len(input_string) < 3:\n",
    "        return input_string\n",
    "    elif input_string.endswith('ing'):\n",
    "        return input_string + 'ly'\n",
    "    else:\n",
    "        return input_string + 'ing'\n",
    "\n",
    "# Example usage\n",
    "input_string = input(\"Enter a string: \")\n",
    "\n",
    "result_string = add_ing_or_ly(input_string)\n",
    "print(f\"The modified string is: {result_string}\")"
   ]
  },
  {
   "cell_type": "markdown",
   "id": "0c5bc950-9fac-4df7-b87b-598bf7f33d0a",
   "metadata": {},
   "source": [
    "# 22) Write a Python function to reverses a string if its length is a multiple of 4."
   ]
  },
  {
   "cell_type": "code",
   "execution_count": 55,
   "id": "d45719fe-4103-4ab6-b4e2-d2847821ce72",
   "metadata": {},
   "outputs": [
    {
     "name": "stdin",
     "output_type": "stream",
     "text": [
      "Enter a string:  python\n"
     ]
    },
    {
     "name": "stdout",
     "output_type": "stream",
     "text": [
      "The modified string is: python\n"
     ]
    }
   ],
   "source": [
    "def reverse_string_if_multiple_of_4(input_string):\n",
    "    if len(input_string) % 4 == 0:\n",
    "        return input_string[::-1]  # Reverse the string using slicing\n",
    "    else:\n",
    "        return input_string\n",
    "\n",
    "# Example usage\n",
    "input_string = input(\"Enter a string: \")\n",
    "\n",
    "result_string = reverse_string_if_multiple_of_4(input_string)\n",
    "print(f\"The modified string is: {result_string}\")"
   ]
  },
  {
   "cell_type": "markdown",
   "id": "b4925fdc-2b36-4d3f-a432-d2f244876ff0",
   "metadata": {},
   "source": [
    "# 23) Write a Python program to get a string made of the first 2 and the last 2 chars from a given a string. If the string length is less than 2, return instead of the empty string. "
   ]
  },
  {
   "cell_type": "code",
   "execution_count": 58,
   "id": "c6ef4b98-57a7-4df7-9734-ab188edbbcc8",
   "metadata": {},
   "outputs": [
    {
     "name": "stdin",
     "output_type": "stream",
     "text": [
      "Enter a string:  python\n"
     ]
    },
    {
     "name": "stdout",
     "output_type": "stream",
     "text": [
      "The modified string is: pyon\n"
     ]
    }
   ],
   "source": [
    "def get_first_last_two_chars(input_string):\n",
    "    if len(input_string) < 2:\n",
    "        return \"\"\n",
    "    else:\n",
    "        return input_string[:2] + input_string[-2:]\n",
    "\n",
    "# Example usage\n",
    "input_string = input(\"Enter a string: \")\n",
    "\n",
    "result_string = get_first_last_two_chars(input_string)\n",
    "print(f\"The modified string is: {result_string}\")"
   ]
  },
  {
   "cell_type": "markdown",
   "id": "dcca59c9-bee9-4dee-bdf2-520318f2a3fa",
   "metadata": {},
   "source": [
    "# 24)Write a Python function to insert a string in the middle of a string. "
   ]
  },
  {
   "cell_type": "code",
   "execution_count": 61,
   "id": "43d8a877-6902-4e96-be43-03554b0c5b89",
   "metadata": {},
   "outputs": [
    {
     "name": "stdin",
     "output_type": "stream",
     "text": [
      "Enter the original string:  rahul is best\n",
      "Enter the string to insert:  rajput\n"
     ]
    },
    {
     "name": "stdout",
     "output_type": "stream",
     "text": [
      "The modified string is: rahul rajputis best\n"
     ]
    }
   ],
   "source": [
    "def insert_in_middle(original_string, string_to_insert):\n",
    "    # Calculate the midpoint of the original string\n",
    "    mid_point = len(original_string) // 2\n",
    "\n",
    "    # Insert the string_to_insert at the midpoint\n",
    "    modified_string = original_string[:mid_point] + string_to_insert + original_string[mid_point:]\n",
    "\n",
    "    return modified_string\n",
    "\n",
    "# Example usage\n",
    "original_string = input(\"Enter the original string: \")\n",
    "string_to_insert = input(\"Enter the string to insert: \")\n",
    "\n",
    "result_string = insert_in_middle(original_string, string_to_insert)\n",
    "print(f\"The modified string is: {result_string}\")"
   ]
  },
  {
   "cell_type": "markdown",
   "id": "f49deff2-59e4-4c2d-86a8-e0cef3ebe7b2",
   "metadata": {},
   "source": [
    "# 25)What is List? How will you reverse a list? "
   ]
  },
  {
   "cell_type": "markdown",
   "id": "7a4af654-c874-4176-99cf-1e3c9dcc8078",
   "metadata": {},
   "source": [
    "#### A list in Python is a mutable, ordered collection of elements. Lists are one of the most versatile data structures in Python and can contain elements of different data types, including integers, strings, floats, and even other lists. Lists are defined using square brackets [ ] and elements are separated by commas."
   ]
  },
  {
   "cell_type": "code",
   "execution_count": 67,
   "id": "6dcff031-da92-4702-b246-a0fff4365e9d",
   "metadata": {},
   "outputs": [],
   "source": [
    "### my_list = [1, 2, 3, 'a', 'b', 'c', True, 3.14]"
   ]
  },
  {
   "cell_type": "markdown",
   "id": "38abbd9d-1f26-4174-8f36-6cab23e55b3d",
   "metadata": {},
   "source": [
    "### Characteristics of Lists:\n",
    "#### Mutable: Elements in a list can be changed or modified after the list is created.\n",
    "#### Ordered: Elements in a list are indexed and their order is maintained. Indexing starts from 0.\n",
    "#### Allows Duplicates: Lists can contain duplicate elements.\n",
    "#### Allows Heterogeneous Elements: Lists can contain elements of different data types."
   ]
  },
  {
   "cell_type": "markdown",
   "id": "df4a7006-9839-4a76-82bd-8c1883cd15f9",
   "metadata": {},
   "source": [
    "## Reversing a List:"
   ]
  },
  {
   "cell_type": "markdown",
   "id": "e24b1859-9a1a-4040-a511-911fa4452874",
   "metadata": {},
   "source": [
    "### Using List Slicing:"
   ]
  },
  {
   "cell_type": "code",
   "execution_count": 77,
   "id": "a59dc7d8-e0ac-42a7-9c14-19f5e20bdceb",
   "metadata": {},
   "outputs": [
    {
     "name": "stdout",
     "output_type": "stream",
     "text": [
      "[5, 4, 3, 2, 1]\n"
     ]
    }
   ],
   "source": [
    "my_list = [1, 2, 3, 4, 5]\n",
    "reversed_list = my_list[::-1]\n",
    "print(reversed_list) "
   ]
  },
  {
   "cell_type": "markdown",
   "id": "b85f5963-5c46-49ac-8c1c-b1fb1a37867c",
   "metadata": {},
   "source": [
    "## Explanation: my_list[::-1] creates a new list that is a reversed version of my_list. The slicing syntax [start:end:step] with a negative step -1 means that it starts from the end and goes backwards."
   ]
  },
  {
   "cell_type": "markdown",
   "id": "35263541-826a-4b49-8bcb-f27f28058f58",
   "metadata": {},
   "source": [
    "## 1. Using the reverse() Method"
   ]
  },
  {
   "cell_type": "code",
   "execution_count": 8,
   "id": "267ad4e1-64c1-49ad-9435-3e3739fe8618",
   "metadata": {},
   "outputs": [
    {
     "name": "stdout",
     "output_type": "stream",
     "text": [
      "[5, 4, 3, 2, 1]\n"
     ]
    }
   ],
   "source": [
    "my_list = [1, 2, 3, 4, 5]\n",
    "my_list.reverse()\n",
    "print(my_list)  "
   ]
  },
  {
   "cell_type": "markdown",
   "id": "4b06ec72-706d-4a2d-ba55-f9491dfcfaa9",
   "metadata": {},
   "source": [
    "## 2. Using Slicing"
   ]
  },
  {
   "cell_type": "code",
   "execution_count": 6,
   "id": "9ed3e1a9-c503-447a-ad44-8bae52f6989b",
   "metadata": {},
   "outputs": [
    {
     "name": "stdout",
     "output_type": "stream",
     "text": [
      "[5, 4, 3, 2, 1]\n"
     ]
    }
   ],
   "source": [
    "my_list = [1, 2, 3, 4, 5]\n",
    "reversed_list = my_list[::-1]\n",
    "print(reversed_list) "
   ]
  },
  {
   "cell_type": "markdown",
   "id": "306a34d1-9520-4048-85ca-5055196f86af",
   "metadata": {},
   "source": [
    "## 3. Using the reversed() Function"
   ]
  },
  {
   "cell_type": "code",
   "execution_count": 11,
   "id": "3aa721aa-115c-4f15-905b-43ffacde592f",
   "metadata": {},
   "outputs": [
    {
     "name": "stdout",
     "output_type": "stream",
     "text": [
      "[5, 4, 3, 2, 1]\n"
     ]
    }
   ],
   "source": [
    "my_list = [1, 2, 3, 4, 5]\n",
    "reversed_list = list(reversed(my_list))\n",
    "print(reversed_list)"
   ]
  },
  {
   "cell_type": "markdown",
   "id": "ee981700-160e-431d-b053-fc5f6b9f4c10",
   "metadata": {},
   "source": [
    "## 4. Using a Loop"
   ]
  },
  {
   "cell_type": "code",
   "execution_count": 14,
   "id": "e0fd777e-a886-4373-aea7-40b44c17cc6d",
   "metadata": {},
   "outputs": [
    {
     "name": "stdout",
     "output_type": "stream",
     "text": [
      "[5, 4, 3, 2, 1]\n"
     ]
    }
   ],
   "source": [
    "my_list = [1, 2, 3, 4, 5]\n",
    "reversed_list = []\n",
    "for item in my_list:\n",
    "    reversed_list.insert(0, item)\n",
    "print(reversed_list)"
   ]
  },
  {
   "cell_type": "markdown",
   "id": "fe06314c-8268-49d5-9e60-a4d92fc5fd79",
   "metadata": {},
   "source": [
    "# 26)How will you remove last object from a list? "
   ]
  },
  {
   "cell_type": "markdown",
   "id": "90d492f7-8336-4ee1-9faf-21409bc67996",
   "metadata": {},
   "source": [
    "## 1. Using the pop() Method"
   ]
  },
  {
   "cell_type": "code",
   "execution_count": 18,
   "id": "0d69e9c9-61cc-43b9-b51f-699ad0f36517",
   "metadata": {},
   "outputs": [
    {
     "name": "stdout",
     "output_type": "stream",
     "text": [
      "[1, 2, 3, 4]\n",
      "5\n"
     ]
    }
   ],
   "source": [
    "my_list = [1, 2, 3, 4, 5]\n",
    "last_item = my_list.pop()\n",
    "print(my_list) \n",
    "print(last_item)"
   ]
  },
  {
   "cell_type": "markdown",
   "id": "da0a4141-e2c5-4c1c-b4f4-ace9eb16db5e",
   "metadata": {},
   "source": [
    "## 2. Using Slicing"
   ]
  },
  {
   "cell_type": "code",
   "execution_count": 21,
   "id": "27ab2db2-d237-41f1-8fa7-9fe9a5d29b7b",
   "metadata": {},
   "outputs": [
    {
     "name": "stdout",
     "output_type": "stream",
     "text": [
      "[1, 2, 3, 4]\n"
     ]
    }
   ],
   "source": [
    "my_list = [1, 2, 3, 4, 5]\n",
    "my_list = my_list[:-1]\n",
    "print(my_list) "
   ]
  },
  {
   "cell_type": "markdown",
   "id": "ca332f5e-a74e-4e26-b240-29a201c6a0c3",
   "metadata": {},
   "source": [
    "### 3. Using the del Statement"
   ]
  },
  {
   "cell_type": "code",
   "execution_count": 26,
   "id": "aefbf0f1-566f-4e35-998b-0f44fd532cd5",
   "metadata": {},
   "outputs": [
    {
     "name": "stdout",
     "output_type": "stream",
     "text": [
      "[1, 2, 3, 4]\n"
     ]
    }
   ],
   "source": [
    "my_list = [1, 2, 3, 4, 5]\n",
    "del my_list[-1]\n",
    "print(my_list) "
   ]
  },
  {
   "cell_type": "markdown",
   "id": "aa928d90-ec86-4714-9990-e56e5a4dec00",
   "metadata": {},
   "source": [
    "## 4. Using the remove() Method"
   ]
  },
  {
   "cell_type": "code",
   "execution_count": 29,
   "id": "ff89566b-8ad2-491c-a7ed-dab48ce6f6a1",
   "metadata": {},
   "outputs": [
    {
     "name": "stdout",
     "output_type": "stream",
     "text": [
      "[1, 2, 3, 4]\n"
     ]
    }
   ],
   "source": [
    "my_list = [1, 2, 3, 4, 5]\n",
    "my_list.remove(my_list[-1])\n",
    "print(my_list)"
   ]
  },
  {
   "cell_type": "markdown",
   "id": "ee81ff77-39eb-4a63-bf3e-ef990694a2e2",
   "metadata": {},
   "source": [
    "# 27)Suppose list1 is [2, 33, 222, 14, and 25], what is list1 [-1]? "
   ]
  },
  {
   "cell_type": "code",
   "execution_count": 32,
   "id": "9a538c00-d22e-4a3e-b929-fa794a705199",
   "metadata": {},
   "outputs": [
    {
     "name": "stdout",
     "output_type": "stream",
     "text": [
      "25\n"
     ]
    }
   ],
   "source": [
    "list1 = [2, 33, 222, 14, 25]\n",
    "print(list1[-1]) "
   ]
  },
  {
   "cell_type": "markdown",
   "id": "a2b9bed3-16a1-43ec-8128-95be6b108678",
   "metadata": {},
   "source": [
    "# 28)Differentiate between append () and extend () methods? "
   ]
  },
  {
   "cell_type": "code",
   "execution_count": 37,
   "id": "902a9f3c-8fe1-4400-aa1d-749a2ff85c54",
   "metadata": {},
   "outputs": [
    {
     "name": "stdout",
     "output_type": "stream",
     "text": [
      "[1, 2, 3, 4]\n"
     ]
    }
   ],
   "source": [
    "list1 = [1, 2, 3]\n",
    "list1.append(4)\n",
    "print(list1)"
   ]
  },
  {
   "cell_type": "code",
   "execution_count": 39,
   "id": "60b27dc4-3354-47dd-9585-cb0acfc868ab",
   "metadata": {},
   "outputs": [
    {
     "name": "stdout",
     "output_type": "stream",
     "text": [
      "[1, 2, 3, 4, 5, 6]\n"
     ]
    }
   ],
   "source": [
    "list1 = [1, 2, 3]\n",
    "list1.extend([4, 5, 6])\n",
    "print(list1)"
   ]
  },
  {
   "cell_type": "markdown",
   "id": "1f412724-7fdc-4a7a-8ec2-e5c1cc54fc4b",
   "metadata": {},
   "source": [
    "# 29) Write a Python function to get the largest number, smallest num and sum of all from a list. "
   ]
  },
  {
   "cell_type": "code",
   "execution_count": 46,
   "id": "604fdd9c-ab74-4c73-9a39-e15c42af7112",
   "metadata": {},
   "outputs": [
    {
     "name": "stdout",
     "output_type": "stream",
     "text": [
      "[1, 5, 6, 7, 8]\n"
     ]
    }
   ],
   "source": [
    "A=[1,5,6,7,8]\n",
    "print(A)"
   ]
  },
  {
   "cell_type": "code",
   "execution_count": 56,
   "id": "811f0cfa-197e-460b-942e-9a87938dbb9f",
   "metadata": {},
   "outputs": [
    {
     "name": "stdout",
     "output_type": "stream",
     "text": [
      "8\n"
     ]
    }
   ],
   "source": [
    "largest_element=max(A)\n",
    "print(largest_element)"
   ]
  },
  {
   "cell_type": "code",
   "execution_count": 58,
   "id": "f6d11be1-6f51-48df-9f11-96df283926c6",
   "metadata": {},
   "outputs": [
    {
     "name": "stdout",
     "output_type": "stream",
     "text": [
      "1\n"
     ]
    }
   ],
   "source": [
    "smallest_element=min(A)\n",
    "print(smallest_element)"
   ]
  },
  {
   "cell_type": "code",
   "execution_count": 60,
   "id": "98b4873e-1e12-48ee-a1f7-75f80afefd21",
   "metadata": {},
   "outputs": [
    {
     "name": "stdout",
     "output_type": "stream",
     "text": [
      "27\n"
     ]
    }
   ],
   "source": [
    "sum_element=sum(A)\n",
    "print(sum_element)"
   ]
  },
  {
   "cell_type": "markdown",
   "id": "caa126e5-6f48-4087-9ddb-84ca61c94d1b",
   "metadata": {},
   "source": [
    "# 30)How will you compare two lists?"
   ]
  },
  {
   "cell_type": "markdown",
   "id": "7e5a4846-ee59-4308-9050-2046fc0aeec8",
   "metadata": {},
   "source": [
    "## 1. Equality Comparison (==)"
   ]
  },
  {
   "cell_type": "code",
   "execution_count": 64,
   "id": "72527b21-d228-4ed5-8b23-40a966786105",
   "metadata": {},
   "outputs": [
    {
     "name": "stdout",
     "output_type": "stream",
     "text": [
      "True\n",
      "False\n"
     ]
    }
   ],
   "source": [
    "list1 = [1, 2, 3]\n",
    "list2 = [1, 2, 3]\n",
    "list3 = [3, 2, 1]\n",
    "\n",
    "print(list1 == list2)  \n",
    "print(list1 == list3)"
   ]
  },
  {
   "cell_type": "markdown",
   "id": "487f5226-48e3-418e-a66e-b64827baac31",
   "metadata": {},
   "source": [
    "## 2. Sorting and Comparing"
   ]
  },
  {
   "cell_type": "code",
   "execution_count": 67,
   "id": "65ef1db4-9f64-4598-aadc-2fe086f56474",
   "metadata": {},
   "outputs": [
    {
     "name": "stdout",
     "output_type": "stream",
     "text": [
      "True\n"
     ]
    }
   ],
   "source": [
    "list1 = [1, 2, 3]\n",
    "list2 = [3, 2, 1]\n",
    "\n",
    "print(sorted(list1) == sorted(list2)) "
   ]
  },
  {
   "cell_type": "markdown",
   "id": "dd493028-fab3-408f-acf1-60b17e71eab7",
   "metadata": {},
   "source": [
    "## 3. Set Comparison"
   ]
  },
  {
   "cell_type": "code",
   "execution_count": 70,
   "id": "57e1f861-91eb-4b24-a1b6-3f4f7416b3c4",
   "metadata": {},
   "outputs": [
    {
     "name": "stdout",
     "output_type": "stream",
     "text": [
      "True\n"
     ]
    }
   ],
   "source": [
    "list1 = [1, 2, 3, 3]\n",
    "list2 = [3, 2, 1, 1]\n",
    "\n",
    "print(set(list1) == set(list2))"
   ]
  },
  {
   "cell_type": "markdown",
   "id": "bc46c217-12c1-466e-846b-c82de23503c3",
   "metadata": {},
   "source": [
    "## 5. Using the collections.Counter for Comparison"
   ]
  },
  {
   "cell_type": "code",
   "execution_count": 76,
   "id": "d29289e4-4d20-4af4-aa4f-dc93497aa402",
   "metadata": {},
   "outputs": [
    {
     "name": "stdout",
     "output_type": "stream",
     "text": [
      "True\n"
     ]
    }
   ],
   "source": [
    "from collections import Counter\n",
    "\n",
    "list1 = [1, 2, 2, 3]\n",
    "list2 = [1, 2, 3, 2]\n",
    "\n",
    "print(Counter(list1) == Counter(list2)) "
   ]
  },
  {
   "cell_type": "markdown",
   "id": "6107b71e-cfb7-4d63-8b15-a84f05b405a9",
   "metadata": {},
   "source": [
    "# 31) Write a Python program to count the number of strings where the string length is 2 or more and the first and last character are same from a given list of strings"
   ]
  },
  {
   "cell_type": "code",
   "execution_count": 81,
   "id": "3d8f2a97-9ede-46be-b7c0-dc9b68a42087",
   "metadata": {},
   "outputs": [
    {
     "name": "stdout",
     "output_type": "stream",
     "text": [
      "['abc', 'xyz', 'aba', '1221', 'aa', 'b']\n"
     ]
    }
   ],
   "source": [
    "list= [\"abc\", \"xyz\", \"aba\", \"1221\", \"aa\", \"b\"]\n",
    "print(list)"
   ]
  },
  {
   "cell_type": "code",
   "execution_count": 87,
   "id": "ad109ffa-174b-4add-87c1-94c6a2d6d627",
   "metadata": {},
   "outputs": [
    {
     "data": {
      "text/plain": [
       "6"
      ]
     },
     "execution_count": 87,
     "metadata": {},
     "output_type": "execute_result"
    }
   ],
   "source": [
    "len(list)"
   ]
  },
  {
   "cell_type": "code",
   "execution_count": 89,
   "id": "b98d08bb-bf74-4a65-b1b5-85ea70e9e892",
   "metadata": {},
   "outputs": [
    {
     "name": "stdout",
     "output_type": "stream",
     "text": [
      "Number of special strings: 3\n"
     ]
    }
   ],
   "source": [
    "def count_special_strings(strings):\n",
    "    count = 0\n",
    "    for string in strings:\n",
    "        if len(string) >= 2 and string[0] == string[-1]:\n",
    "            count += 1\n",
    "    return count\n",
    "\n",
    "# Example usage:\n",
    "strings = [\"abc\", \"xyz\", \"aba\", \"1221\", \"aa\", \"b\"]\n",
    "result = count_special_strings(strings)\n",
    "print(f\"Number of special strings: {result}\")"
   ]
  },
  {
   "cell_type": "markdown",
   "id": "64cd28d2-0d34-4ce3-9268-d394cc7689f5",
   "metadata": {},
   "source": [
    "# 32)Write a Python program to remove duplicates from a list. "
   ]
  },
  {
   "cell_type": "code",
   "execution_count": 104,
   "id": "c165082e-3ef4-4a4f-a0e2-e5eb298b0301",
   "metadata": {},
   "outputs": [
    {
     "name": "stdout",
     "output_type": "stream",
     "text": [
      "List after removing duplicates: [1, 2, 3, 4, 5, 6]\n"
     ]
    }
   ],
   "source": [
    " def remove_duplicates(input_list):\n",
    "    seen = set()\n",
    "    result = []\n",
    "    for item in input_list:\n",
    "        if item not in seen:\n",
    "            result.append(item)\n",
    "            seen.add(item)\n",
    "    return result\n",
    "\n",
    "# Example usage:\n",
    "input_list = [1, 2, 3, 2, 4, 1, 5, 3, 6]\n",
    "unique_list = remove_duplicates(input_list)\n",
    "print(f\"List after removing duplicates: {unique_list}\")"
   ]
  },
  {
   "cell_type": "markdown",
   "id": "ca077203-2c38-4aa5-b90f-1a1ce6b63ee4",
   "metadata": {},
   "source": [
    "# 33)Write a Python program to check a list is empty or not. "
   ]
  },
  {
   "cell_type": "code",
   "execution_count": 107,
   "id": "e484c8d3-8405-4602-93e8-2b1cb27b156c",
   "metadata": {},
   "outputs": [
    {
     "name": "stdout",
     "output_type": "stream",
     "text": [
      "Is list1 empty? True\n",
      "Is list2 empty? False\n"
     ]
    }
   ],
   "source": [
    "def is_list_empty(input_list):\n",
    "    return len(input_list) == 0\n",
    "\n",
    "# Example usage:\n",
    "list1 = []\n",
    "list2 = [1, 2, 3]\n",
    "\n",
    "print(f\"Is list1 empty? {is_list_empty(list1)}\") \n",
    "print(f\"Is list2 empty? {is_list_empty(list2)}\")"
   ]
  },
  {
   "cell_type": "markdown",
   "id": "13bd0c5e-74e2-4564-940e-28fc7877a0be",
   "metadata": {},
   "source": [
    "# 34) Write a Python function that takes two lists and returns true if they have at least one common member. "
   ]
  },
  {
   "cell_type": "code",
   "execution_count": 110,
   "id": "e4f7bbb0-c200-47dc-902b-38b78b75a71a",
   "metadata": {},
   "outputs": [
    {
     "name": "stdout",
     "output_type": "stream",
     "text": [
      "True\n",
      "False\n"
     ]
    }
   ],
   "source": [
    "def has_common_member(list1, list2):\n",
    "    for item in list1:\n",
    "        if item in list2:\n",
    "            return True\n",
    "    return False\n",
    "\n",
    "# Example usage:\n",
    "list1 = [1, 2, 3, 4]\n",
    "list2 = [4, 5, 6, 7]\n",
    "list3 = [8, 9, 10]\n",
    "\n",
    "print(has_common_member(list1, list2))\n",
    "print(has_common_member(list1, list3))"
   ]
  },
  {
   "cell_type": "markdown",
   "id": "e465962a-49aa-4789-8ff9-1047942f24d4",
   "metadata": {},
   "source": [
    "# 35) Write a Python program to generate and print a list of first and last 5 elements where the values are square of numbers between 1 and 30. "
   ]
  },
  {
   "cell_type": "code",
   "execution_count": 113,
   "id": "d2561697-e5e0-4e76-8b37-51dcae3eadf5",
   "metadata": {},
   "outputs": [
    {
     "name": "stdout",
     "output_type": "stream",
     "text": [
      "First 5 elements: [1, 4, 9, 16, 25]\n",
      "Last 5 elements: [676, 729, 784, 841, 900]\n"
     ]
    }
   ],
   "source": [
    "def generate_square_list(start, end):\n",
    "    square_list = [x ** 2 for x in range(start, end + 1)]\n",
    "    return square_list\n",
    "\n",
    "# Generate squares of numbers between 1 and 30\n",
    "square_list = generate_square_list(1, 30)\n",
    "\n",
    "# Print the first 5 elements\n",
    "print(f\"First 5 elements: {square_list[:5]}\")\n",
    "\n",
    "# Print the last 5 elements\n",
    "print(f\"Last 5 elements: {square_list[-5:]}\")"
   ]
  },
  {
   "cell_type": "markdown",
   "id": "9e6d0d89-8c27-4433-a3c2-fa94e0eae8ff",
   "metadata": {},
   "source": [
    "# 36) Write a Python function that takes a list and returns a new list with unique elements of the first list. "
   ]
  },
  {
   "cell_type": "code",
   "execution_count": 126,
   "id": "98ee9eb5-f44a-4399-bc5d-f62058977037",
   "metadata": {},
   "outputs": [
    {
     "name": "stdout",
     "output_type": "stream",
     "text": [
      "[1, 2, 3, 4, 5]\n"
     ]
    }
   ],
   "source": [
    "# Define a function named 'unique_list' that takes a list 'l' as input and returns a list of unique elements\n",
    "def unique_list(l):\n",
    "    # Create an empty list 'x' to store unique elements\n",
    "    x = []\n",
    "    \n",
    "    # Iterate through each element 'a' in the input list 'l'\n",
    "    for a in l:\n",
    "        # Check if the element 'a' is not already present in the list 'x'\n",
    "        if a not in x:\n",
    "            # If 'a' is not in 'x', add it to the list 'x'\n",
    "            x.append(a)\n",
    "    \n",
    "    # Return the list 'x' containing unique elements\n",
    "    return x\n",
    "\n",
    "# Print the result of calling the 'unique_list' function with a list containing duplicate elements\n",
    "print(unique_list([1, 2, 3, 3, 3, 3, 4, 5]))  \n"
   ]
  },
  {
   "cell_type": "markdown",
   "id": "6364ef64-88d9-488d-b29f-ed81e49779e4",
   "metadata": {},
   "source": [
    "# 37)Write a Python program to convert a list of characters into a string. "
   ]
  },
  {
   "cell_type": "code",
   "execution_count": 129,
   "id": "4dfaaf20-84d4-4de4-b4cf-7baad704a5df",
   "metadata": {},
   "outputs": [
    {
     "name": "stdout",
     "output_type": "stream",
     "text": [
      "abcd\n"
     ]
    }
   ],
   "source": [
    "# List of characters\n",
    "char_list = ['a', 'b', 'c', 'd']\n",
    "\n",
    "# Convert list to string\n",
    "result = ''.join(char_list)\n",
    "\n",
    "print(result)"
   ]
  },
  {
   "cell_type": "markdown",
   "id": "a6a8a54d-7d38-44e0-83a2-82e958cdc137",
   "metadata": {},
   "source": [
    "# 38)Write a Python program to select an item randomly from a list. "
   ]
  },
  {
   "cell_type": "code",
   "execution_count": 132,
   "id": "d37f2e42-e8ee-40eb-ae70-cea1dfd43bf9",
   "metadata": {},
   "outputs": [
    {
     "name": "stdout",
     "output_type": "stream",
     "text": [
      "Randomly selected item: 5\n"
     ]
    }
   ],
   "source": [
    "import random\n",
    "\n",
    "def select_random_item(input_list):\n",
    "    return random.choice(input_list)\n",
    "\n",
    "# Example usage:\n",
    "my_list = [1, 2, 3, 4, 5]\n",
    "random_item = select_random_item(my_list)\n",
    "print(f\"Randomly selected item: {random_item}\")"
   ]
  },
  {
   "cell_type": "markdown",
   "id": "ebf8b05b-c266-44fb-8760-10ae2a45f582",
   "metadata": {},
   "source": [
    "# 39)Write a Python program to find the second smallest number in a list. "
   ]
  },
  {
   "cell_type": "code",
   "execution_count": 135,
   "id": "6e82f520-e39c-4878-9473-dc43b68d0e43",
   "metadata": {},
   "outputs": [
    {
     "name": "stdout",
     "output_type": "stream",
     "text": [
      "2\n"
     ]
    }
   ],
   "source": [
    "# List of numbers\n",
    "num_list = [5, 2, 8, 1, 6]\n",
    "\n",
    "# Sort the list\n",
    "sorted_list = sorted(num_list)\n",
    "\n",
    "# Second smallest number\n",
    "second_smallest = sorted_list[1]\n",
    "\n",
    "print(second_smallest)"
   ]
  },
  {
   "cell_type": "markdown",
   "id": "98869323-af41-400e-b309-0512abe906b0",
   "metadata": {},
   "source": [
    "# 40)Write a Python program to get unique values from a list "
   ]
  },
  {
   "cell_type": "code",
   "execution_count": 156,
   "id": "a23ed5e2-d16d-477e-9e7f-47a7043bf9f5",
   "metadata": {},
   "outputs": [
    {
     "name": "stdout",
     "output_type": "stream",
     "text": [
      "[1, 2, 3, 4, 5]\n"
     ]
    }
   ],
   "source": [
    "# List with duplicate values\n",
    "num_list = [1, 2, 2, 3, 4, 4, 5]\n",
    "\n",
    "# Get unique values\n",
    "unique_values = []\n",
    "for num in num_list:\n",
    "    if num not in unique_values:\n",
    "        unique_values.append(num)\n",
    "\n",
    "print(unique_values)"
   ]
  },
  {
   "cell_type": "markdown",
   "id": "f31177ad-5341-470c-8a43-95a21a9382ac",
   "metadata": {},
   "source": [
    "# 41)Write a Python program to check whether a list contains a sub list "
   ]
  },
  {
   "cell_type": "code",
   "execution_count": 159,
   "id": "efd0aa46-4cf5-4c3d-a20f-e2e2fd4aef94",
   "metadata": {},
   "outputs": [
    {
     "name": "stdout",
     "output_type": "stream",
     "text": [
      "Sublist found in the main list\n"
     ]
    }
   ],
   "source": [
    "# Main list\n",
    "main_list = [1, 2, 3, 4, 5, 6]\n",
    "\n",
    "# Sublist to check for\n",
    "sub_list = [3, 4]\n",
    "\n",
    "# Check if sublist exists in main list\n",
    "if all(item in main_list for item in sub_list):\n",
    "    print(\"Sublist found in the main list\")\n",
    "else:\n",
    "    print(\"Sublist not found in the main list\")"
   ]
  },
  {
   "cell_type": "markdown",
   "id": "a0ab15e4-e5f1-4d8c-ae38-4e753b2895d8",
   "metadata": {},
   "source": [
    "# 42)Write a Python program to split a list into different variables. "
   ]
  },
  {
   "cell_type": "code",
   "execution_count": 162,
   "id": "9c5e7120-e762-49e0-87ba-dee7c76a7504",
   "metadata": {},
   "outputs": [
    {
     "name": "stdout",
     "output_type": "stream",
     "text": [
      "1\n",
      "2\n",
      "3\n"
     ]
    }
   ],
   "source": [
    "# List to split\n",
    "num_list = [1, 2, 3]\n",
    "\n",
    "# Unpacking the list into variables\n",
    "a, b, c = num_list\n",
    "\n",
    "print(a) \n",
    "print(b)  \n",
    "print(c)"
   ]
  },
  {
   "cell_type": "markdown",
   "id": "77650d95-8263-4eee-ac99-d6c2a96a20c6",
   "metadata": {},
   "source": [
    "# 43)What is tuple? Difference between list and tuple. "
   ]
  },
  {
   "cell_type": "code",
   "execution_count": 165,
   "id": "d1cb8509-a73d-4b3a-b694-7da95ab4cfb8",
   "metadata": {},
   "outputs": [],
   "source": [
    "# List example\n",
    "my_list = [1, 2, 3]\n",
    "my_list[0] = 4  # Valid - lists are mutable\n",
    "\n",
    "# Tuple example\n",
    "my_tuple = (1, 2, 3)\n",
    "# my_tuple[0] = 4  # Invalid - tuples are immutable\n"
   ]
  },
  {
   "cell_type": "markdown",
   "id": "126d3ac4-54a8-405a-a093-29bd26bd7ee0",
   "metadata": {},
   "source": [
    "# 44)Write a Python program to create a tuple with different data types."
   ]
  },
  {
   "cell_type": "code",
   "execution_count": 168,
   "id": "e31a98d6-b734-4659-863d-3927980be2c3",
   "metadata": {},
   "outputs": [
    {
     "name": "stdout",
     "output_type": "stream",
     "text": [
      "(1, 'hello', 3.14, True)\n"
     ]
    }
   ],
   "source": [
    "# Creating a tuple with different data types\n",
    "my_tuple = (1, \"hello\", 3.14, True)\n",
    "\n",
    "print(my_tuple)\n"
   ]
  },
  {
   "cell_type": "markdown",
   "id": "f17a416d-7ab6-4d80-a151-7281f6ad803f",
   "metadata": {},
   "source": [
    "# 45)Write a Python program to unzip a list of tuples into individual lists"
   ]
  },
  {
   "cell_type": "code",
   "execution_count": 211,
   "id": "7766bc0a-218e-4990-889c-b1785fe4a3d6",
   "metadata": {},
   "outputs": [
    {
     "name": "stdout",
     "output_type": "stream",
     "text": [
      "('ahmedabad', 'hyderabad')\n",
      "('gujrat', 'telangana')\n"
     ]
    }
   ],
   "source": [
    "place= [('ahmedabad','gujrat'),('hyderabad','telangana')]\n",
    "city,states=zip(*place)\n",
    "print(city)\n",
    "print(states)"
   ]
  },
  {
   "cell_type": "markdown",
   "id": "63e0ec95-0ef5-4319-be77-4662cc160149",
   "metadata": {},
   "source": [
    "# 46)Write a Python program to convert a list of tuples into a dictionary. "
   ]
  },
  {
   "cell_type": "code",
   "execution_count": 214,
   "id": "eeadbd5c-c740-4969-a960-fa48dcfc2eab",
   "metadata": {},
   "outputs": [
    {
     "name": "stdout",
     "output_type": "stream",
     "text": [
      "{'Key 1': 1, 'Key 2': 2, 'Key 3': 3, 'Key 4': 4, 'Key 5': 5}\n"
     ]
    }
   ],
   "source": [
    "tuples = [('Key 1', 1), ('Key 2', 2), ('Key 3', 3), ('Key 4', 4), ('Key 5', 5)]\n",
    "\n",
    "# converting to dict\n",
    "result = dict(tuples)\n",
    "\n",
    "# printing the result\n",
    "print(result)"
   ]
  },
  {
   "cell_type": "markdown",
   "id": "977edecb-02dd-492f-be4f-1c691f0036d0",
   "metadata": {},
   "source": [
    "# 47)How will you create a dictionary using tuples in python? "
   ]
  },
  {
   "cell_type": "code",
   "execution_count": 217,
   "id": "8db7315b-9266-47a5-982e-ef3a0b5c5ca9",
   "metadata": {},
   "outputs": [
    {
     "name": "stdout",
     "output_type": "stream",
     "text": [
      "{'bobby': 24, 'ojsawi': 21}\n"
     ]
    }
   ],
   "source": [
    "data = ((24, \"bobby\"), (21, \"ojsawi\")) \n",
    "  \n",
    "# convert into dictionary \n",
    "final = dict((value, key) for key, value in data) \n",
    "  \n",
    "# display \n",
    "print(final)"
   ]
  },
  {
   "cell_type": "markdown",
   "id": "ff10cd6d-7d5d-41aa-ac90-3d1e965377f1",
   "metadata": {},
   "source": [
    "# 48)Write a Python script to sort (ascending and descending) a dictionary by value. "
   ]
  },
  {
   "cell_type": "code",
   "execution_count": 222,
   "id": "186c2f9f-ba04-45a5-90db-c7f16a52ee6c",
   "metadata": {},
   "outputs": [
    {
     "name": "stdout",
     "output_type": "stream",
     "text": [
      "Original dictionary :  {1: 2, 3: 4, 4: 3, 2: 1, 0: 0}\n",
      "Dictionary in ascending order by value :  [(0, 0), (2, 1), (1, 2), (4, 3), (3, 4)]\n",
      "Dictionary in descending order by value :  {3: 4, 4: 3, 1: 2, 2: 1, 0: 0}\n"
     ]
    }
   ],
   "source": [
    "import operator\n",
    "\n",
    "# Create a dictionary 'd' with key-value pairs.\n",
    "d = {1: 2, 3: 4, 4: 3, 2: 1, 0: 0}\n",
    "\t\n",
    "# Print the original dictionary 'd'.\n",
    "print('Original dictionary : ',d)\n",
    "\n",
    "# Sort the items (key-value pairs) in the dictionary 'd' based on the values (1st element of each pair).\n",
    "# The result is a list of sorted key-value pairs.\n",
    "sorted_d = sorted(d.items(), key=operator.itemgetter(1))\n",
    "\n",
    "# Print the dictionary 'sorted_d' in ascending order by value.\n",
    "print('Dictionary in ascending order by value : ',sorted_d)\n",
    "\n",
    "# Convert the sorted list of key-value pairs back into a dictionary.\n",
    "# The 'reverse=True' argument sorts the list in descending order by value.\n",
    "sorted_d = dict( sorted(d.items(), key=operator.itemgetter(1), reverse=True))\n",
    "\n",
    "# Print the dictionary 'sorted_d' in descending order by value.\n",
    "print('Dictionary in descending order by value : ',sorted_d)  "
   ]
  },
  {
   "cell_type": "markdown",
   "id": "34be76b1-5435-4be7-a893-654f3bf0e18f",
   "metadata": {},
   "source": [
    "# 49)Write a Python script to concatenate following dictionaries to create a new one. "
   ]
  },
  {
   "cell_type": "code",
   "execution_count": 224,
   "id": "522c2b75-b386-48ad-a430-c6f1060a5692",
   "metadata": {},
   "outputs": [
    {
     "name": "stdout",
     "output_type": "stream",
     "text": [
      "{1: 10, 2: 20, 3: 30, 4: 40, 5: 50, 6: 60}\n"
     ]
    }
   ],
   "source": [
    "# Create three dictionaries 'dic1', 'dic2', and 'dic3' with key-value pairs.\n",
    "dic1 = {1: 10, 2: 20}\n",
    "dic2 = {3: 30, 4: 40}\n",
    "dic3 = {5: 50, 6: 60}\n",
    "\n",
    "# Create an empty dictionary 'dic4' that will store the combined key-value pairs from 'dic1', 'dic2', and 'dic3'.\n",
    "dic4 = {}\n",
    "\n",
    "# Iterate through each dictionary ('dic1', 'dic2', and 'dic3') using a loop.\n",
    "for d in (dic1, dic2, dic3):\n",
    "    # Update 'dic4' by adding the key-value pairs from the current dictionary 'd'.\n",
    "    dic4.update(d)\n",
    "\n",
    "# Print the combined dictionary 'dic4' containing all the key-value pairs from 'dic1', 'dic2', and 'dic3'.\n",
    "print(dic4) "
   ]
  },
  {
   "cell_type": "markdown",
   "id": "fa9b0194-f5ef-48b1-adc8-3a131fab9f9f",
   "metadata": {},
   "source": [
    "# 50)Write a Python script to check if a given key already exists in a dictionary."
   ]
  },
  {
   "cell_type": "code",
   "execution_count": 230,
   "id": "307455ef-0038-41be-8b11-ff6a3a8b58bb",
   "metadata": {},
   "outputs": [
    {
     "name": "stdout",
     "output_type": "stream",
     "text": [
      "Key is present in the dictionary\n",
      "Key is not present in the dictionary\n"
     ]
    }
   ],
   "source": [
    "# Create a dictionary 'd' with key-value pairs.\n",
    "d = {1: 10, 2: 20, 3: 30, 4: 40, 5: 50, 6: 60}\n",
    "\n",
    "# Define a function 'is_key_present' that takes an argument 'x'.\n",
    "def is_key_present(x):\n",
    "    # Check if 'x' is a key in the dictionary 'd'.\n",
    "    if x in d:\n",
    "        # If 'x' is present in 'd', print a message indicating that the key is present.\n",
    "        print('Key is present in the dictionary')\n",
    "    else:\n",
    "        # If 'x' is not present in 'd', print a message indicating that the key is not present.\n",
    "        print('Key is not present in the dictionary')\n",
    "\n",
    "# Call the 'is_key_present' function with the argument 5 to check if 5 is a key in the dictionary.\n",
    "is_key_present(5)\n",
    "\n",
    "# Call the 'is_key_present' function with the argument 9 to check if 9 is a key in the dictionary.\n",
    "is_key_present(9) "
   ]
  },
  {
   "cell_type": "markdown",
   "id": "39b7ca22-878d-481e-b2c4-2013e3cc2780",
   "metadata": {},
   "source": [
    "# 51)How Do You Traverse Through a Dictionary Object in Python? "
   ]
  },
  {
   "cell_type": "code",
   "execution_count": 233,
   "id": "1bb9b0dd-8ca9-423e-9419-55976ccb48b2",
   "metadata": {},
   "outputs": [
    {
     "name": "stdout",
     "output_type": "stream",
     "text": [
      "Novel Pride and Prejudice\n",
      "year 1813\n",
      "author Jane Austen\n",
      "character Elizabeth Bennet\n"
     ]
    }
   ],
   "source": [
    "dictionary = { \n",
    "   'Novel': 'Pride and Prejudice', \n",
    "   'year': '1813', \n",
    "   'author': 'Jane Austen', \n",
    "   'character': 'Elizabeth Bennet' \n",
    "}\n",
    "\n",
    "for keys, values in dictionary.items(): \n",
    "   print(keys ,values)"
   ]
  },
  {
   "cell_type": "markdown",
   "id": "4e7e2b87-c132-4826-8e2f-f8ff13743f26",
   "metadata": {},
   "source": [
    "# 52)How Do You Check the Presence of a Key in A Dictionary? "
   ]
  },
  {
   "cell_type": "code",
   "execution_count": 242,
   "id": "dfba8e53-e037-447d-9aab-e9f3fb2357c8",
   "metadata": {},
   "outputs": [
    {
     "name": "stdout",
     "output_type": "stream",
     "text": [
      "Present\n"
     ]
    }
   ],
   "source": [
    "dic = {'a': 100, 'b':200, 'c':300} \n",
    "  \n",
    "# check if \"b\" is none or not. \n",
    "if dic.get('b') == None: \n",
    "  print(\"Not Present\") \n",
    "else: \n",
    "  print(\"Present\")"
   ]
  },
  {
   "cell_type": "markdown",
   "id": "7ef6dc57-1316-4d66-85ac-b370c9cc323b",
   "metadata": {},
   "source": [
    "# 53)Write a Python script to print a dictionary where the keys are numbers between 1 and 15. "
   ]
  },
  {
   "cell_type": "code",
   "execution_count": 245,
   "id": "6aeeb6f7-9dee-4824-92b6-c427b496ff52",
   "metadata": {},
   "outputs": [
    {
     "name": "stdout",
     "output_type": "stream",
     "text": [
      "{1: 1, 2: 4, 3: 9, 4: 16, 5: 25, 6: 36, 7: 49, 8: 64, 9: 81, 10: 100, 11: 121, 12: 144, 13: 169, 14: 196, 15: 225}\n"
     ]
    }
   ],
   "source": [
    "# Create an empty dictionary 'd' to store the squares of numbers.\n",
    "d = dict()\n",
    "\n",
    "# Iterate through numbers from 1 to 15 (inclusive).\n",
    "for x in range(1, 16):\n",
    "    # Calculate the square of each number and store it in the dictionary 'd' with the number as the key.\n",
    "    d[x] = x ** 2\n",
    "\n",
    "# Print the dictionary 'd' containing the squares of numbers from 1 to 15.\n",
    "print(d)"
   ]
  },
  {
   "cell_type": "markdown",
   "id": "643c5b0f-ba54-4b7f-a1f0-1ebf9560f8f1",
   "metadata": {},
   "source": [
    "# 54)Write a Python program to check multiple keys exists in a dictionary "
   ]
  },
  {
   "cell_type": "code",
   "execution_count": 248,
   "id": "fa5c5974-cfa3-4673-906d-42e5af2cfca4",
   "metadata": {},
   "outputs": [
    {
     "name": "stdout",
     "output_type": "stream",
     "text": [
      "All keys are present\n",
      "All keys are not present\n"
     ]
    }
   ],
   "source": [
    "Adict = {\"Mon\":3, \"Tue\":11,\"Wed\":6,\"Thu\":9}\n",
    "check_keys={\"Tue\",\"Thu\"}\n",
    "\n",
    "# Use comaprision\n",
    "if(Adict.keys()) >= check_keys:\n",
    "   print(\"All keys are present\")\n",
    "else:\n",
    "   print(\"All keys are not present\")\n",
    "# Check for new keys\n",
    "check_keys={\"Mon\",\"Fri\"}\n",
    "if(Adict.keys()) >= check_keys:\n",
    "   print(\"All keys are present\")\n",
    "else:\n",
    "   print(\"All keys are not present\")"
   ]
  },
  {
   "cell_type": "markdown",
   "id": "d2b1b755-bf17-4e97-9b2f-55ea128b67b1",
   "metadata": {},
   "source": [
    "# 55)Write a Python script to merge two Python dictionaries "
   ]
  },
  {
   "cell_type": "code",
   "execution_count": 251,
   "id": "eee6a182-669b-4693-9f3b-e87cb65fc352",
   "metadata": {},
   "outputs": [
    {
     "name": "stdout",
     "output_type": "stream",
     "text": [
      "{'a': 100, 'b': 200, 'x': 300, 'y': 200}\n"
     ]
    }
   ],
   "source": [
    "# Create the first dictionary 'd1' with key-value pairs.\n",
    "d1 = {'a': 100, 'b': 200}\n",
    "\n",
    "# Create the second dictionary 'd2' with key-value pairs.\n",
    "d2 = {'x': 300, 'y': 200}\n",
    "\n",
    "# Create a new dictionary 'd' and initialize it as a copy of 'd1'.\n",
    "d = d1.copy()\n",
    "\n",
    "# Update the dictionary 'd' by adding key-value pairs from 'd2'.\n",
    "d.update(d2)\n",
    "\n",
    "# Print the dictionary 'd' after combining the key-value pairs from 'd1' and 'd2.\n",
    "print(d) "
   ]
  },
  {
   "cell_type": "markdown",
   "id": "be6ab322-c6d0-406d-9adb-a213404d18d7",
   "metadata": {},
   "source": [
    "# 56)Write a Python program to map two lists into a dictionary Sample output: Counter ({'a': 400, 'b': 400,’d’: 400, 'c': 300})."
   ]
  },
  {
   "cell_type": "code",
   "execution_count": 254,
   "id": "1d3173cf-aecf-4281-997f-775f4c6c77d4",
   "metadata": {},
   "outputs": [
    {
     "name": "stdout",
     "output_type": "stream",
     "text": [
      "Mapped Dictionary: {'a': 400, 'b': 400, 'd': 400, 'c': 300}\n"
     ]
    }
   ],
   "source": [
    "def lists_to_dictionary(keys, values):\n",
    "    return dict(zip(keys, values))\n",
    "\n",
    "# Example usage:\n",
    "keys = ['a', 'b', 'd', 'c']\n",
    "values = [400, 400, 400, 300]\n",
    "result_dict = lists_to_dictionary(keys, values)\n",
    "print(\"Mapped Dictionary:\", result_dict)"
   ]
  },
  {
   "cell_type": "markdown",
   "id": "08bcaef7-2c2a-4bb6-bd25-669726567cbb",
   "metadata": {},
   "source": [
    "# 57)Write a Python program to find the highest 3 values in a dictionary "
   ]
  },
  {
   "cell_type": "code",
   "execution_count": 257,
   "id": "82f1da6c-8d03-4828-b262-048c5e9b0098",
   "metadata": {},
   "outputs": [
    {
     "name": "stdout",
     "output_type": "stream",
     "text": [
      "Top 3 Values in the Dictionary: [('e', 600), ('c', 500), ('a', 400)]\n"
     ]
    }
   ],
   "source": [
    "def highest_n_values(dictionary, n=3):\n",
    "    # Sort the dictionary by values in descending order and get the first n items\n",
    "    sorted_items = sorted(dictionary.items(), key=lambda x: x[1], reverse=True)[:n]\n",
    "    # Return the keys and values of the top n items\n",
    "    return sorted_items\n",
    "\n",
    "# Example usage:\n",
    "my_dict = {'a': 400, 'b': 300, 'c': 500, 'd': 200, 'e': 600}\n",
    "top_3_values = highest_n_values(my_dict, 3)\n",
    "print(\"Top 3 Values in the Dictionary:\", top_3_values)"
   ]
  },
  {
   "cell_type": "markdown",
   "id": "8cc2189f-1037-4856-bb5c-cccb672cba43",
   "metadata": {},
   "source": [
    "# 58)Write a Python program to combine values in python list of dictionaries. \n",
    "## Sample data: [{'item': 'item1', 'amount': 400}, {'item': 'item2', 'amount': 300}, o {'item': 'item1', 'amount': 750}] "
   ]
  },
  {
   "cell_type": "code",
   "execution_count": 260,
   "id": "ad93cc48-8c6a-4118-8bbf-86c6087d83de",
   "metadata": {},
   "outputs": [
    {
     "name": "stdout",
     "output_type": "stream",
     "text": [
      "Combined Data: {'item1': 1150, 'item2': 300}\n"
     ]
    }
   ],
   "source": [
    "from collections import defaultdict\n",
    "\n",
    "def combine_values(list_of_dicts):\n",
    "    combined_dict = defaultdict(int)\n",
    "    \n",
    "    for d in list_of_dicts:\n",
    "        item = d['item']\n",
    "        amount = d['amount']\n",
    "        combined_dict[item] += amount\n",
    "    \n",
    "    return dict(combined_dict)\n",
    "\n",
    "# Sample data\n",
    "data = [\n",
    "    {'item': 'item1', 'amount': 400},\n",
    "    {'item': 'item2', 'amount': 300},\n",
    "    {'item': 'item1', 'amount': 750}\n",
    "]\n",
    "\n",
    "# Combine values\n",
    "combined_data = combine_values(data)\n",
    "print(\"Combined Data:\", combined_data)"
   ]
  },
  {
   "cell_type": "markdown",
   "id": "f4c9b059-0db2-492a-90d8-30baf71fedc4",
   "metadata": {},
   "source": [
    "# 59)Write a Python program to create a dictionary from a string. Note: Track the count of the letters from the string. \n",
    "# 60)Sample string:"
   ]
  },
  {
   "cell_type": "code",
   "execution_count": 263,
   "id": "f9e03cac-4893-4eec-a2ca-bd8fa09a2d42",
   "metadata": {},
   "outputs": [
    {
     "name": "stdout",
     "output_type": "stream",
     "text": [
      "Character Count Dictionary: {'h': 1, 'e': 1, 'l': 2, 'o': 1}\n"
     ]
    }
   ],
   "source": [
    "from collections import Counter\n",
    "\n",
    "def create_char_count_dict(input_string):\n",
    "    # Using Counter to count occurrences of each character\n",
    "    char_count = Counter(input_string)\n",
    "    \n",
    "    # Convert Counter to dictionary (if needed)\n",
    "    char_count_dict = dict(char_count)\n",
    "    \n",
    "    return char_count_dict\n",
    "\n",
    "# Example usage:\n",
    "input_string = \"hello\"\n",
    "char_count_dict = create_char_count_dict(input_string)\n",
    "print(\"Character Count Dictionary:\", char_count_dict)"
   ]
  },
  {
   "cell_type": "markdown",
   "id": "16ba13b9-9a7c-49c9-b571-4463c80c34a9",
   "metadata": {},
   "source": [
    "# 61)Write a Python function to calculate the factorial of a number (a nonnegative integer) "
   ]
  },
  {
   "cell_type": "code",
   "execution_count": 3,
   "id": "f99c7f4e-435a-466b-8323-69abfe76fd15",
   "metadata": {},
   "outputs": [
    {
     "name": "stdin",
     "output_type": "stream",
     "text": [
      "Input a number to compute the factorial:  2\n"
     ]
    },
    {
     "name": "stdout",
     "output_type": "stream",
     "text": [
      "2\n"
     ]
    }
   ],
   "source": [
    "# Define a function named 'factorial' that calculates the factorial of a number 'n'\n",
    "def factorial(n):\n",
    "    # Check if the number 'n' is 0\n",
    "    if n == 0:\n",
    "        # If 'n' is 0, return 1 (factorial of 0 is 1)\n",
    "        return 1\n",
    "    else:\n",
    "        # If 'n' is not 0, recursively call the 'factorial' function with (n-1) and multiply it with 'n'\n",
    "        return n * factorial(n - 1)\n",
    "\n",
    "# Ask the user to input a number to compute its factorial and store it in variable 'n'\n",
    "n = int(input(\"Input a number to compute the factorial: \"))\n",
    "\n",
    "# Print the factorial of the number entered by the user by calling the 'factorial' function\n",
    "print(factorial(n))"
   ]
  },
  {
   "cell_type": "markdown",
   "id": "c4c0392a-010b-4777-9ba2-9066b46f827d",
   "metadata": {},
   "source": [
    "# 62)Write a Python function to check whether a number is in a given range "
   ]
  },
  {
   "cell_type": "code",
   "execution_count": 6,
   "id": "6beb9a71-d8e3-4190-b6ad-4691ecca5779",
   "metadata": {},
   "outputs": [
    {
     "name": "stdout",
     "output_type": "stream",
     "text": [
      "5 is in the range\n"
     ]
    }
   ],
   "source": [
    "# Define a function named 'test_range' that checks if a number 'n' is within the range 3 to 8 (inclusive)\n",
    "def test_range(n):\n",
    "    # Check if 'n' is within the range from 3 to 8 (inclusive) using the 'in range()' statement\n",
    "    if n in range(3, 9):\n",
    "        # If 'n' is within the range, print that 'n' is within the given range\n",
    "        print(\"%s is in the range\" % str(n))\n",
    "    else:\n",
    "        # If 'n' is outside the range, print that the number is outside the given range\n",
    "        print(\"The number is outside the given range.\")\n",
    "\n",
    "# Call the 'test_range' function with the argument 5\n",
    "test_range(5)"
   ]
  },
  {
   "cell_type": "markdown",
   "id": "cf242843-3e3f-47ab-aef2-5bcbc6565bfd",
   "metadata": {},
   "source": [
    "# 63)Write a Python function to check whether a number is perfect or not"
   ]
  },
  {
   "cell_type": "code",
   "execution_count": 9,
   "id": "e43ad04c-bd7c-4c52-8d88-1339cb1db784",
   "metadata": {},
   "outputs": [
    {
     "name": "stdout",
     "output_type": "stream",
     "text": [
      "True\n"
     ]
    }
   ],
   "source": [
    "# Define a function named 'perfect_number' that checks if a number 'n' is a perfect number\n",
    "def perfect_number(n):\n",
    "    # Initialize a variable 'sum' to store the sum of factors of 'n'\n",
    "    sum = 0\n",
    "    \n",
    "    # Iterate through numbers from 1 to 'n-1' using 'x' as the iterator\n",
    "    for x in range(1, n):\n",
    "        # Check if 'x' is a factor of 'n' (divides 'n' without remainder)\n",
    "        if n % x == 0:\n",
    "            # If 'x' is a factor of 'n', add it to the 'sum'\n",
    "            sum += x\n",
    "    \n",
    "    # Check if the 'sum' of factors is equal to the original number 'n'\n",
    "    return sum == n\n",
    "\n",
    "# Print the result of checking if 6 is a perfect number by calling the 'perfect_number' function\n",
    "print(perfect_number(6)) "
   ]
  },
  {
   "cell_type": "markdown",
   "id": "64386945-769a-4991-bf3d-831964769c7c",
   "metadata": {},
   "source": [
    "# 64)Write a Python function that checks whether a passed string is palindrome or not "
   ]
  },
  {
   "cell_type": "code",
   "execution_count": 12,
   "id": "8d2aa5e5-2fb9-4600-b348-61cd5c66b225",
   "metadata": {},
   "outputs": [
    {
     "name": "stdout",
     "output_type": "stream",
     "text": [
      "True\n"
     ]
    }
   ],
   "source": [
    "# Define a function named 'isPalindrome' that checks if a string is a palindrome\n",
    "def isPalindrome(string):\n",
    "    # Initialize left and right pointers to check characters from the start and end of the string\n",
    "    left_pos = 0\n",
    "    right_pos = len(string) - 1\n",
    "    \n",
    "    # Loop until the pointers meet or cross each other\n",
    "    while right_pos >= left_pos:\n",
    "        # Check if the characters at the left and right positions are not equal\n",
    "        if not string[left_pos] == string[right_pos]:\n",
    "            # If characters don't match, return False (not a palindrome)\n",
    "            return False\n",
    "        \n",
    "        # Move the left pointer to the right and the right pointer to the left to continue checking\n",
    "        left_pos += 1\n",
    "        right_pos -= 1\n",
    "    \n",
    "    # If the loop finishes without returning False, the string is a palindrome, so return True\n",
    "    return True\n",
    "\n",
    "# Print the result of checking if the string 'aza' is a palindrome by calling the 'isPalindrome' function\n",
    "print(isPalindrome('aza')) "
   ]
  },
  {
   "cell_type": "markdown",
   "id": "d3d9be65-8162-443f-8839-720e4ae3d134",
   "metadata": {},
   "source": [
    "# 65)How Many Basic Types of Functions Are Available in Python? "
   ]
  },
  {
   "cell_type": "markdown",
   "id": "35504b9d-7279-4d96-afb3-c178c39c0f6c",
   "metadata": {},
   "source": [
    "## In Python, there are primarily three basic types of functions:\n",
    "\n",
    "### Built-in Functions: These are the functions that are built into Python and are always available for use. Examples include print(), len(), range(), type(), etc.\n",
    "\n",
    "### User-defined Functions: These are functions that users create themselves using the def keyword. They can be customized to perform specific tasks."
   ]
  },
  {
   "cell_type": "code",
   "execution_count": 18,
   "id": "d2b364eb-a32d-41ca-b839-7134cd8a1aa9",
   "metadata": {},
   "outputs": [],
   "source": [
    "def my_function():\n",
    "    print(\"Hello, World!\")"
   ]
  },
  {
   "cell_type": "markdown",
   "id": "a76f6e47-eb4b-47a0-8228-1273f627c0ff",
   "metadata": {},
   "source": [
    "### Anonymous Functions (Lambda Functions): These are small, unnamed functions defined using the lambda keyword. They are often used for short-term operations and can take any number of arguments but can only have one expression."
   ]
  },
  {
   "cell_type": "code",
   "execution_count": 22,
   "id": "d819c80d-718e-4cc1-9a22-aa38db8bec11",
   "metadata": {},
   "outputs": [
    {
     "name": "stdout",
     "output_type": "stream",
     "text": [
      "5\n"
     ]
    }
   ],
   "source": [
    "add = lambda x, y: x + y\n",
    "print(add(2, 3)) "
   ]
  },
  {
   "cell_type": "markdown",
   "id": "28a7b127-958a-430c-bee5-ececb36fc5cc",
   "metadata": {},
   "source": [
    "# 66)How can you pick a random item from a list or tuple? "
   ]
  },
  {
   "cell_type": "code",
   "execution_count": 25,
   "id": "c1417d46-f6b1-4d45-92d1-fc357c898173",
   "metadata": {},
   "outputs": [
    {
     "name": "stdout",
     "output_type": "stream",
     "text": [
      "The generated 3 random tuple items =  ('TutorialsPoint', 20, 10)\n"
     ]
    }
   ],
   "source": [
    "# importing random module\n",
    "import random\n",
    "# input tuple\n",
    "inputTuple = (30, 10, \"TutorialsPoint\", 20, \"python\", \"code\")\n",
    "# generating 3 random items from the tuple using random.sample() method\n",
    "randomItems = random.sample(inputTuple, 3)\n",
    "print(\"The generated 3 random tuple items = \", tuple(randomItems))"
   ]
  },
  {
   "cell_type": "markdown",
   "id": "1fba7a10-7649-40a1-b729-8129500bf6eb",
   "metadata": {},
   "source": [
    "# 67)How can you pick a random item from a range? "
   ]
  },
  {
   "cell_type": "code",
   "execution_count": 28,
   "id": "99ffe4f6-7070-4066-9827-63b18895df76",
   "metadata": {},
   "outputs": [
    {
     "name": "stdout",
     "output_type": "stream",
     "text": [
      "Random Numbers from 1 to 50 are:\n",
      "27\n",
      "43\n"
     ]
    }
   ],
   "source": [
    "# importing random module\n",
    "import random\n",
    "print('Random Numbers from 1 to 50 are:')\n",
    "\n",
    "# getting a random number from 1 to 50\n",
    "x=random.randrange(1,50)\n",
    "print(x)\n",
    "\n",
    "# getting an alternative(odd number) random number from 1 to 50\n",
    "y=random.randrange(1,50,2)\n",
    "print(y)"
   ]
  },
  {
   "cell_type": "markdown",
   "id": "aed9ee83-af42-4029-a5ee-0dbede2c0403",
   "metadata": {},
   "source": [
    "# 68)How can you get a random number in python? "
   ]
  },
  {
   "cell_type": "code",
   "execution_count": 33,
   "id": "2bfa8984-a020-451f-925d-41056e1741bd",
   "metadata": {},
   "outputs": [
    {
     "name": "stdout",
     "output_type": "stream",
     "text": [
      "0.6448678291258807\n"
     ]
    }
   ],
   "source": [
    "import random\n",
    "num = random.random()\n",
    "print(num)"
   ]
  },
  {
   "cell_type": "markdown",
   "id": "d592a511-adb2-42df-b560-183dbaba3c36",
   "metadata": {},
   "source": [
    "# 69)How will you set the starting value in generating random numbers?"
   ]
  },
  {
   "cell_type": "code",
   "execution_count": 36,
   "id": "56645767-2a9e-4813-8add-fcfd30d0ea16",
   "metadata": {},
   "outputs": [
    {
     "name": "stdout",
     "output_type": "stream",
     "text": [
      "Random integers between 0 and 9: \n",
      "1\n",
      "8\n",
      "6\n",
      "6\n",
      "4\n",
      "0\n",
      "4\n",
      "5\n",
      "2\n",
      "4\n",
      "5\n"
     ]
    }
   ],
   "source": [
    "print(\"Random integers between 0 and 9: \")\n",
    "for i in range(4, 15):\n",
    "     y = random.randrange(9)\n",
    "     print(y)"
   ]
  },
  {
   "cell_type": "markdown",
   "id": "7b27ad75-8f1c-4e1e-b657-49cafe3a8ec3",
   "metadata": {},
   "source": [
    "# 70) How will you randomize the items of a list in place"
   ]
  },
  {
   "cell_type": "code",
   "execution_count": 39,
   "id": "c15a49ae-7442-4721-aca6-01b7d181883f",
   "metadata": {},
   "outputs": [
    {
     "name": "stdout",
     "output_type": "stream",
     "text": [
      "Original list: [1, 2, 3, 4, 5]\n",
      "Shuffled list: [1, 3, 5, 2, 4]\n"
     ]
    }
   ],
   "source": [
    "import random\n",
    " \n",
    "my_list = [1, 2, 3, 4, 5]\n",
    " \n",
    "shuffled_list = sorted(my_list, key=lambda x: random.random())\n",
    " \n",
    "print(\"Original list:\", my_list)\n",
    "print(\"Shuffled list:\", shuffled_list)"
   ]
  },
  {
   "cell_type": "markdown",
   "id": "4932e717-478c-4f5f-8a35-3744b4ed58d9",
   "metadata": {},
   "source": [
    "# 71)What is File function in python? What are keywords to create and write file. "
   ]
  },
  {
   "cell_type": "markdown",
   "id": "b3101f00-bfc2-4273-8289-1421b7cedf49",
   "metadata": {},
   "source": [
    "## In Python, file functions are used to interact with files on the filesystem. The primary functions and methods for handling files include opening, reading, writing, and closing files.\n",
    "## File Functions in Python\n",
    "### open() Function: Used to open a file. It returns a file object and is most commonly used with two arguments: the filename and the mode.\n",
    "\n"
   ]
  },
  {
   "cell_type": "code",
   "execution_count": null,
   "id": "db6b22af-b057-4d2c-9b4b-a02b9a61eb37",
   "metadata": {},
   "outputs": [],
   "source": [
    "file = open('example.txt', 'r')  # 'r' is for reading"
   ]
  },
  {
   "cell_type": "markdown",
   "id": "2b0ed0c3-6907-495a-8df7-f8a2c4fe979f",
   "metadata": {},
   "source": [
    "## File Methods: These methods are called on the file object.\n",
    "\n",
    " 1. read(): Reads the entire content of the file.\n",
    "\n",
    " 2. readline(): Reads a single line from the file.\n",
    "\n",
    " 3. readlines(): Reads all lines into a list.\n",
    "\n",
    " 4. write(): Writes a string to the file.\n",
    "\n",
    " 5. writelines(): Writes a list of strings to the file.\n",
    "\n",
    " 6. close(): Closes the file."
   ]
  },
  {
   "cell_type": "markdown",
   "id": "b0ee6cce-b107-4fb5-93ac-23d25580e617",
   "metadata": {},
   "source": [
    "## Keywords to Create and Write to a File\n",
    "### To create and write to a file, you generally use the open() function with specific modes. Here are the most common modes related to creating and writing to files:\n",
    "\n",
    "'w': Write mode. Creates a new file if it does not exist or truncates the file if it exists.\n",
    "\n",
    "'a': Append mode. Creates a new file if it does not exist, or appends to the end of the file if it does.\n",
    "\n",
    "'x': Exclusive creation mode. Creates a new file and raises an error if the file already exists.\n",
    "\n",
    "'b': Binary mode. Used with other modes to read/write binary files.\n",
    "\n",
    "'t': Text mode. This is the default mode and does not need to be explicitly specified."
   ]
  },
  {
   "cell_type": "code",
   "execution_count": 51,
   "id": "ef30ea6f-8cce-4ed5-9291-42e0a95492d9",
   "metadata": {},
   "outputs": [],
   "source": [
    "# Open a file in write mode\n",
    "file = open('example.txt', 'w')\n",
    "\n",
    "# Write a string to the file\n",
    "file.write(\"Hello, World!\\n\")\n",
    "\n",
    "# Write multiple lines to the file\n",
    "lines = [\"First line\\n\", \"Second line\\n\", \"Third line\\n\"]\n",
    "file.writelines(lines)\n",
    "\n",
    "# Close the file\n",
    "file.close()"
   ]
  },
  {
   "cell_type": "code",
   "execution_count": 53,
   "id": "4286bc3b-6d80-4cc5-a73a-60e607774099",
   "metadata": {},
   "outputs": [],
   "source": [
    "# Open a file in append mode\n",
    "file = open('example.txt', 'a')\n",
    "\n",
    "# Append a string to the file\n",
    "file.write(\"This is an appended line.\\n\")\n",
    "\n",
    "# Close the file\n",
    "file.close()"
   ]
  },
  {
   "cell_type": "markdown",
   "id": "09c59a0d-a659-4ffa-87e4-c9120f8d6fd9",
   "metadata": {},
   "source": [
    "# 72)Write a Python program to read an entire text file. "
   ]
  },
  {
   "cell_type": "code",
   "execution_count": 56,
   "id": "9ad3e9c7-4db3-4989-9bc0-834de25bd82b",
   "metadata": {},
   "outputs": [],
   "source": [
    "file = open('example.txt', 'r')  # 'r' is for reading"
   ]
  },
  {
   "cell_type": "markdown",
   "id": "c75c9e58-b808-4379-b5f5-f2c4d9021b7a",
   "metadata": {},
   "source": [
    "# 73)Write a Python program to append text to a file and display the text. "
   ]
  },
  {
   "cell_type": "code",
   "execution_count": 61,
   "id": "6be96ac8-113f-47dc-9e78-f66fc2f1bbb0",
   "metadata": {},
   "outputs": [],
   "source": [
    "# Open the file in append mode\n",
    "file = open('myfile.txt', 'a')\n",
    "#Append content to the file\n",
    "file.write('\\n This is a new line of text.')\n",
    "\n",
    "# Close the file\n",
    "file.close()"
   ]
  },
  {
   "cell_type": "markdown",
   "id": "983de70c-0512-4796-aecc-5b42a6280034",
   "metadata": {},
   "source": [
    "# 74)Write a Python program to read first n lines of a file. \n"
   ]
  },
  {
   "cell_type": "code",
   "execution_count": 66,
   "id": "4652bc5b-fea6-414a-a737-dfe0486da0ec",
   "metadata": {},
   "outputs": [
    {
     "name": "stdout",
     "output_type": "stream",
     "text": [
      "Hello, World!\n",
      "First line\n",
      "Second line\n",
      "Third line\n",
      "This is an appended line.\n"
     ]
    }
   ],
   "source": [
    "def read_first_n_lines(file_name, n):\n",
    "    try:\n",
    "        with open(file_name, 'r') as file:\n",
    "            for i in range(n):\n",
    "                line = file.readline()\n",
    "                if line == '':\n",
    "                    break  # End of file reached\n",
    "                print(line, end='')  # `end=''` to avoid adding extra newlines\n",
    "    except FileNotFoundError:\n",
    "        print(f\"The file '{file_name}' does not exist.\")\n",
    "    except Exception as e:\n",
    "        print(f\"An error occurred: {e}\")\n",
    "\n",
    "# Example usage\n",
    "file_name = 'example.txt'  # Replace with your file name\n",
    "n = 5  # Number of lines to read\n",
    "read_first_n_lines(file_name, n)"
   ]
  },
  {
   "cell_type": "markdown",
   "id": "9db079e3-936d-4ae0-bb57-323db152fe05",
   "metadata": {},
   "source": [
    "# 75)Write a Python program to read last n lines of a file."
   ]
  },
  {
   "cell_type": "code",
   "execution_count": 71,
   "id": "c6873da5-32f4-4b56-af8e-e6211a84bde2",
   "metadata": {},
   "outputs": [
    {
     "name": "stdout",
     "output_type": "stream",
     "text": [
      "Hello, World!\n",
      "First line\n",
      "Second line\n",
      "Third line\n",
      "This is an appended line.\n"
     ]
    }
   ],
   "source": [
    "from collections import deque\n",
    "\n",
    "def read_last_n_lines(file_name, n):\n",
    "    try:\n",
    "        with open(file_name, 'r') as file:\n",
    "            # Use deque to hold the last n lines\n",
    "            last_n_lines = deque(file, maxlen=n)\n",
    "            for line in last_n_lines:\n",
    "                print(line, end='')  # `end=''` to avoid adding extra newlines\n",
    "    except FileNotFoundError:\n",
    "        print(f\"The file '{file_name}' does not exist.\")\n",
    "    except Exception as e:\n",
    "        print(f\"An error occurred: {e}\")\n",
    "\n",
    "# Example usage\n",
    "file_name = 'example.txt'  # Replace with your file name\n",
    "n = 5  # Number of lines to read\n",
    "read_last_n_lines(file_name, n)"
   ]
  },
  {
   "cell_type": "markdown",
   "id": "de6cd926-ead3-442f-8f74-2d32daceca9d",
   "metadata": {},
   "source": [
    "# 76)Write a Python program to read a file line by line and store it into a list "
   ]
  },
  {
   "cell_type": "code",
   "execution_count": 74,
   "id": "1b744c11-b93a-436a-a614-151a8e6719b5",
   "metadata": {},
   "outputs": [
    {
     "name": "stdout",
     "output_type": "stream",
     "text": [
      "Line1: Geeks\n",
      "Line2: for\n",
      "Line3: Geeks\n"
     ]
    }
   ],
   "source": [
    "# Python code to\n",
    "# demonstrate readlines()\n",
    "\n",
    "L = [\"Geeks\\n\", \"for\\n\", \"Geeks\\n\"]\n",
    "\n",
    "# writing to file\n",
    "file1 = open('myfile.txt', 'w')\n",
    "file1.writelines(L)\n",
    "file1.close()\n",
    "\n",
    "# Using readlines()\n",
    "file1 = open('myfile.txt', 'r')\n",
    "Lines = file1.readlines()\n",
    "\n",
    "count = 0\n",
    "# Strips the newline character\n",
    "for line in Lines:\n",
    "    count += 1\n",
    "    print(\"Line{}: {}\".format(count, line.strip()))"
   ]
  },
  {
   "cell_type": "markdown",
   "id": "16ab9d6e-8607-43a5-8a4c-53a8d86c8556",
   "metadata": {},
   "source": [
    "# 77)Write a Python program to read a file line by line store it into a variable."
   ]
  },
  {
   "cell_type": "code",
   "execution_count": 77,
   "id": "9735995d-d0fc-4b35-8c91-2c3c43912f83",
   "metadata": {},
   "outputs": [
    {
     "name": "stdout",
     "output_type": "stream",
     "text": [
      "Line1: Geeks\n",
      "Line2: for\n",
      "Line3: Geeks\n"
     ]
    }
   ],
   "source": [
    "# Python code to\n",
    "# demonstrate readlines()\n",
    "\n",
    "L = [\"Geeks\\n\", \"for\\n\", \"Geeks\\n\"]\n",
    "\n",
    "# writing to file\n",
    "file1 = open('myfile.txt', 'w')\n",
    "file1.writelines(L)\n",
    "file1.close()\n",
    "\n",
    "# Using readlines()\n",
    "file1 = open('myfile.txt', 'r')\n",
    "Lines = file1.readlines()\n",
    "\n",
    "count = 0\n",
    "# Strips the newline character\n",
    "for line in Lines:\n",
    "    count += 1\n",
    "    print(\"Line{}: {}\".format(count, line.strip()))"
   ]
  },
  {
   "cell_type": "markdown",
   "id": "d58fa25b-d6be-4a1c-bc70-0e296e0d5333",
   "metadata": {},
   "source": [
    "# 78)Write a python program to find the longest words. "
   ]
  },
  {
   "cell_type": "code",
   "execution_count": 80,
   "id": "6384c371-9d91-421a-b521-afd597057657",
   "metadata": {},
   "outputs": [
    {
     "name": "stdout",
     "output_type": "stream",
     "text": [
      "Longest words in the file:\n",
      "appended\n"
     ]
    }
   ],
   "source": [
    "def find_longest_words(file_name):\n",
    "    try:\n",
    "        with open(file_name, 'r') as file:\n",
    "            words = file.read().split()  # Read the file and split into words\n",
    "        max_length = max(len(word) for word in words)  # Find the maximum length\n",
    "        longest_words = [word for word in words if len(word) == max_length]  # Find all words with maximum length\n",
    "        return longest_words\n",
    "    except FileNotFoundError:\n",
    "        print(f\"The file '{file_name}' does not exist.\")\n",
    "        return []\n",
    "    except Exception as e:\n",
    "        print(f\"An error occurred: {e}\")\n",
    "        return []\n",
    "\n",
    "# Example usage\n",
    "file_name = 'example.txt'  # Replace with your file name\n",
    "longest_words = find_longest_words(file_name)\n",
    "\n",
    "# Print the longest words\n",
    "if longest_words:\n",
    "    print(\"Longest words in the file:\")\n",
    "    for word in longest_words:\n",
    "        print(word)\n",
    "else:\n",
    "    print(\"No words found in the file.\")"
   ]
  },
  {
   "cell_type": "markdown",
   "id": "69fc2d44-4e08-46c7-949a-1b4aade5fb04",
   "metadata": {},
   "source": [
    "# 79)Write a Python program to count the number of lines in a text file. "
   ]
  },
  {
   "cell_type": "code",
   "execution_count": 83,
   "id": "39712901-989c-4bfd-a57e-cc21e39a562a",
   "metadata": {},
   "outputs": [
    {
     "name": "stdout",
     "output_type": "stream",
     "text": [
      "Total Number of lines: 3\n"
     ]
    }
   ],
   "source": [
    "with open(r\"myfile.txt\", 'r') as fp:\n",
    "    lines = len(fp.readlines())\n",
    "    print('Total Number of lines:', lines)"
   ]
  },
  {
   "cell_type": "markdown",
   "id": "8fae1772-65a9-41d2-8dee-1b74d7a52b9b",
   "metadata": {},
   "source": [
    "# 80)Write a Python program to count the frequency of words in a file. \n"
   ]
  },
  {
   "cell_type": "code",
   "execution_count": 94,
   "id": "32dd78bd-58f4-4002-bd35-a1348e43c8c5",
   "metadata": {},
   "outputs": [
    {
     "data": {
      "text/plain": [
       "2"
      ]
     },
     "execution_count": 94,
     "metadata": {},
     "output_type": "execute_result"
    }
   ],
   "source": [
    "str='Apple Mango Apple'\n",
    "str.count('Apple')"
   ]
  },
  {
   "cell_type": "markdown",
   "id": "ef7e7e81-2919-4e08-964e-bd4d4ba87646",
   "metadata": {},
   "source": [
    "# 81)Write a Python program to write a list to a file. "
   ]
  },
  {
   "cell_type": "code",
   "execution_count": 97,
   "id": "1c9b432e-aebd-492a-ad6e-27691273c49f",
   "metadata": {},
   "outputs": [
    {
     "name": "stdout",
     "output_type": "stream",
     "text": [
      "File written successfully\n"
     ]
    }
   ],
   "source": [
    "# assign list\n",
    "l = ['Geeks','for','Geeks!']\n",
    " \n",
    "# open file\n",
    "with open('gfg.txt', 'w+') as f:\n",
    "     \n",
    "    # write elements of list\n",
    "    for items in l:\n",
    "        f.write('%s\\n' %items)\n",
    "     \n",
    "    print(\"File written successfully\")\n",
    " \n",
    " \n",
    "# close the file\n",
    "f.close()"
   ]
  },
  {
   "cell_type": "markdown",
   "id": "07808fc7-4a0e-4d40-9706-2ab7a02bccae",
   "metadata": {},
   "source": [
    "# 82)Write a Python program to copy the contents of a file to another file. "
   ]
  },
  {
   "cell_type": "code",
   "execution_count": null,
   "id": "3ff6255e-89a8-4e11-a42e-4ad776610334",
   "metadata": {},
   "outputs": [],
   "source": [
    "def copy_file_contents(source_file, destination_file):\n",
    "    try:\n",
    "        with open(source_file, 'r') as src:\n",
    "            content = src.read()\n",
    "        with open(destination_file, 'w') as dest:\n",
    "            dest.write(content)\n",
    "        print(f\"Contents copied from {source_file} to {destination_file} successfully.\")\n",
    "    except FileNotFoundError:\n",
    "        print(f\"The file '{source_file}' does not exist.\")\n",
    "    except Exception as e:\n",
    "        print(f\"An error occurred: {e}\")\n",
    "\n",
    "# Example usage\n",
    "source_file = 'source.txt'  # Replace with your source file name\n",
    "destination_file = 'destination.txt'  # Replace with your destination file name\n",
    "copy_file_contents(source_file, destination_file)"
   ]
  },
  {
   "cell_type": "markdown",
   "id": "cf05c9c5-a3cf-4d8c-ab59-c026fbeb8f3d",
   "metadata": {},
   "source": [
    "# 83)Explain Exception handling? What is an Error in Python? "
   ]
  },
  {
   "cell_type": "code",
   "execution_count": 111,
   "id": "f5527b51-4a66-419e-8387-21b3bb3242a8",
   "metadata": {},
   "outputs": [
    {
     "name": "stdout",
     "output_type": "stream",
     "text": [
      "You are eligible to purchase Dsa Self Paced\n"
     ]
    }
   ],
   "source": [
    "# initialize the amount variable \n",
    "amount = 10000\n",
    "  \n",
    "# check that You are eligible to \n",
    "#  purchase Dsa Self Paced or not \n",
    "if(amount>2999):\n",
    "    print(\"You are eligible to purchase Dsa Self Paced\") "
   ]
  },
  {
   "cell_type": "markdown",
   "id": "cb74f1c9-aa4d-4136-a789-86bb8e540907",
   "metadata": {},
   "source": [
    "# 84)How many except statements can a try-except block have? Name Some built-in exception classes: \n"
   ]
  },
  {
   "cell_type": "markdown",
   "id": "e16b847d-c0d8-44b3-9fd5-6d257b653283",
   "metadata": {},
   "source": [
    "## How Many except Statements Can a try-except Block Have?\n",
    "### A try-except block in Python can have multiple except statements to handle different exceptions. There is no fixed limit to the number of except statements; you can have as many as you need to handle various types of exceptions that might occur within the try block.\n",
    "\n",
    "1. ValueError is handled if the input is not a valid integer.\n",
    "2. ZeroDivisionError is handled if the input is zero.\n",
    "3. A generic Exception is handled for any other unexpected errors.\n"
   ]
  },
  {
   "cell_type": "markdown",
   "id": "89992ec0-8360-4744-a073-75caf61a311c",
   "metadata": {},
   "source": [
    "## Some Built-in Exception Classes\n",
    "## Here are some common built-in exception classes in Python:\n",
    "\n",
    "### 1.BaseException: The base class for all built-in exceptions. It is not meant to be directly inherited by user-defined classes (use Exception instead).\n",
    "### 2.Exception: The base class for all non-exit exceptions. All built-in, non-system-exiting exceptions are derived from this class.\n",
    "### 3.ArithmeticError: The base class for all errors related to arithmetic operations.\n",
    "### 4.ZeroDivisionError: Raised when division or modulo by zero occurs.\n",
    "### 5.OverflowError: Raised when the result of an arithmetic operation is too large to be expressed within the range of the data type.\n",
    "### 6.LookupError: The base class for errors raised when a lookup on a sequence or mapping fails.\n",
    "### 7.IndexError: Raised when a sequence subscript is out of range.\n",
    "### 8.KeyError: Raised when a dictionary key is not found.\n",
    "### 9.ValueError: Raised when an operation or function receives an argument of the right type but inappropriate value.\n",
    "### 10.TypeError: Raised when an operation or function is applied to an object of inappropriate type.\n",
    "### 11.NameError: Raised when a local or global name is not found.\n",
    "### 12.UnboundLocalError: Raised when a reference is made to a local variable in a function or method, but no value has been bound to that variable.\n",
    "### 13.ImportError: Raised when an import statement fails to find the module definition or when a from ... import fails to find a name that is to be imported.\n",
    "### 14.ModuleNotFoundError: A subclass of ImportError raised when a module could not be found.\n",
    "### 15.FileNotFoundError: Raised when a file or directory is requested but doesn’t exist.\n",
    "### 16.IOError: Raised when an I/O operation (such as a print statement, the open function, or a method of a file object) fails for an I/O-related reason (e.g., “file not found” or “disk full”).\n",
    "### These are just a few examples of the built-in exception classes available in Python. The complete list of built-in exceptions can be found in the Python documentation."
   ]
  },
  {
   "cell_type": "markdown",
   "id": "2f77a8fb-f515-4c50-915d-dc081981600d",
   "metadata": {},
   "source": [
    "# 85)When will the else part of try-except-else be executed? "
   ]
  },
  {
   "cell_type": "markdown",
   "id": "9d7a7e8a-0524-4c39-aae7-7f020fc99e74",
   "metadata": {},
   "source": [
    "## In Python's try-except-else statement, the else block is executed when no exceptions are raised in the try block. Here's a breakdown of when each part of try-except-else is executed:\n",
    "\n",
    "### 1.try block: This is where you place code that you want to execute. If an exception occurs within this block, execution immediately jumps to the corresponding except block (if present), skipping the else block altogether.\n",
    "\n",
    "### 2.except block: If an exception occurs in the try block that matches the exception type specified in the except statement (or if no specific exception type is specified, it catches all exceptions), the code in the except block is executed.\n",
    "\n",
    "### 3.else block: If no exceptions occur in the try block, the code in the else block is executed immediately after the try block finishes executing. This block is useful for code that should only run if no exceptions were raised."
   ]
  },
  {
   "cell_type": "markdown",
   "id": "8ac1f106-08e4-442d-a05d-4c75d0c97ab4",
   "metadata": {},
   "source": [
    "# 86)Can one block of except statements handle multiple exception? "
   ]
  },
  {
   "cell_type": "markdown",
   "id": "fae575b6-9fb8-4515-8551-e1244a2ca7e9",
   "metadata": {},
   "source": [
    "### Yes, a single block of except statements in Python can handle multiple exceptions. You can specify multiple exception types in a single except block to handle different types of exceptions with the same handler code."
   ]
  },
  {
   "cell_type": "markdown",
   "id": "fadba4ea-52e4-49f5-92fd-87211400e17b",
   "metadata": {},
   "source": [
    "# 87)When is the finally block executed? "
   ]
  },
  {
   "cell_type": "markdown",
   "id": "e5a10fb2-c4cd-49ab-bda4-4fc2ba506aa7",
   "metadata": {},
   "source": [
    "## The finally block in Python's try-except-finally structure is executed under the following circumstances:\n",
    "\n",
    "### 1.Normal Execution: If no exceptions are raised in the try block, the finally block is executed after the try block finishes executing and before the program moves on to any surrounding code.\n",
    "\n",
    "### 2.Exceptional Cases: If an exception occurs in the try block and there is an appropriate except block that handles the exception, the finally block is still executed after the try and except blocks complete. This ensures that cleanup actions, such as closing files or releasing resources, are performed regardless of whether an exception occurred or not."
   ]
  },
  {
   "cell_type": "markdown",
   "id": "9067bf6a-c2e2-46ec-86df-00d98264606b",
   "metadata": {},
   "source": [
    "# 88)What happens when „1‟== 1 is executed? "
   ]
  },
  {
   "cell_type": "code",
   "execution_count": 126,
   "id": "2e7bf21f-a551-4f45-9ada-9964346909e1",
   "metadata": {},
   "outputs": [
    {
     "name": "stdout",
     "output_type": "stream",
     "text": [
      "False\n"
     ]
    }
   ],
   "source": [
    "print(\"1\" == 1)"
   ]
  },
  {
   "cell_type": "markdown",
   "id": "c4304d11-d5bb-4295-8f32-7f050e4d5d21",
   "metadata": {},
   "source": [
    "# 89)How Do You Handle Exceptions with Try/Except/Finally in Python? Explain with coding snippets. "
   ]
  },
  {
   "cell_type": "markdown",
   "id": "4f8bcd97-b422-44ad-aa34-a5507be19241",
   "metadata": {},
   "source": [
    "### In Python, exception handling using try, except, and finally allows you to gracefully manage errors and ensure cleanup actions are performed, regardless of whether exceptions occur. Here's an explanation with coding snippets demonstrating their usage:"
   ]
  },
  {
   "cell_type": "markdown",
   "id": "8e67a385-89e8-48aa-ba5e-a7e90d60c5e3",
   "metadata": {},
   "source": [
    "## Basic Structure:"
   ]
  },
  {
   "cell_type": "code",
   "execution_count": null,
   "id": "8edaeb67-b675-44b2-9343-8ec71f11b90e",
   "metadata": {},
   "outputs": [],
   "source": [
    "try:\n",
    "    # Code that may raise exceptions\n",
    "    # ...\n",
    "except SomeException as e:\n",
    "    # Handle specific exception\n",
    "    # ...\n",
    "except AnotherException as e:\n",
    "    # Handle another specific exception\n",
    "    # ...\n",
    "finally:\n",
    "    # Optional: Clean-up code that runs regardless of exceptions\n",
    "    # ..."
   ]
  },
  {
   "cell_type": "markdown",
   "id": "7e2566d1-24c3-40ca-a6af-ed9c37a968fb",
   "metadata": {},
   "source": [
    "## Explanation:\n",
    "### 1.try Block: The code that you suspect may raise exceptions is placed within the try block. If an exception occurs within this block, Python immediately jumps to the corresponding except block (if an appropriate one is specified).\n",
    "\n",
    "### 2.except Block: You can have multiple except blocks to handle different types of exceptions. Each except block specifies the type of exception it can handle (SomeException, AnotherException, etc.). If an exception of that type (or a subclass) occurs in the try block, the corresponding except block is executed to handle the exception.\n",
    "\n",
    "### 3.finally Block: This block is optional. It contains code that is always executed, regardless of whether an exception occurred or not. It is typically used for cleanup actions, such as closing files or releasing resources, ensuring they are properly handled."
   ]
  },
  {
   "cell_type": "code",
   "execution_count": 134,
   "id": "c5f1d377-1771-46d1-8ce8-6752a848e4c0",
   "metadata": {},
   "outputs": [
    {
     "name": "stdout",
     "output_type": "stream",
     "text": [
      "Cleanup: Closing any open resources if necessary.\n",
      "Error: Cannot divide by zero!\n",
      "Cleanup: Closing any open resources if necessary.\n",
      "Error: Unsupported operand type(s) for division\n",
      "Cleanup: Closing any open resources if necessary.\n"
     ]
    }
   ],
   "source": [
    "def divide_numbers(x, y):\n",
    "    try:\n",
    "        result = x / y\n",
    "    except ZeroDivisionError:\n",
    "        print(\"Error: Cannot divide by zero!\")\n",
    "    except TypeError:\n",
    "        print(\"Error: Unsupported operand type(s) for division\")\n",
    "    finally:\n",
    "        print(\"Cleanup: Closing any open resources if necessary.\")\n",
    "\n",
    "# Example usage\n",
    "divide_numbers(10, 2)  \n",
    "divide_numbers(10, 0)  \n",
    "divide_numbers(10, '2') "
   ]
  },
  {
   "cell_type": "markdown",
   "id": "91394e99-96c5-46e4-bddc-a5a3a7381351",
   "metadata": {},
   "source": [
    "# 90)Write python program that user to enter only odd numbers, else will raise an exception."
   ]
  },
  {
   "cell_type": "code",
   "execution_count": 137,
   "id": "56c644dc-3886-4271-92ec-d11f2f1b8568",
   "metadata": {},
   "outputs": [
    {
     "name": "stdin",
     "output_type": "stream",
     "text": [
      "Enter an odd number:  3\n"
     ]
    },
    {
     "name": "stdout",
     "output_type": "stream",
     "text": [
      "You entered 3, which is an odd number.\n"
     ]
    }
   ],
   "source": [
    "# Define a custom exception for even numbers\n",
    "class EvenNumberError(Exception):\n",
    "    def __init__(self, value):\n",
    "        self.value = value\n",
    "    \n",
    "    def __str__(self):\n",
    "        return f\"Error: '{self.value}' is an even number. Please enter an odd number.\"\n",
    "\n",
    "# Function to prompt user for an odd number\n",
    "def get_odd_number():\n",
    "    try:\n",
    "        number = int(input(\"Enter an odd number: \"))\n",
    "        if number % 2 == 0:\n",
    "            raise EvenNumberError(number)\n",
    "        else:\n",
    "            print(f\"You entered {number}, which is an odd number.\")\n",
    "    except ValueError:\n",
    "        print(\"Error: Invalid input. Please enter a valid integer.\")\n",
    "    except EvenNumberError as e:\n",
    "        print(e)\n",
    "\n",
    "# Example usage\n",
    "get_odd_number()"
   ]
  },
  {
   "cell_type": "code",
   "execution_count": null,
   "id": "f1e8db76-53bb-4f26-93eb-dd0160723603",
   "metadata": {},
   "outputs": [],
   "source": []
  }
 ],
 "metadata": {
  "kernelspec": {
   "display_name": "Python 3 (ipykernel)",
   "language": "python",
   "name": "python3"
  },
  "language_info": {
   "codemirror_mode": {
    "name": "ipython",
    "version": 3
   },
   "file_extension": ".py",
   "mimetype": "text/x-python",
   "name": "python",
   "nbconvert_exporter": "python",
   "pygments_lexer": "ipython3",
   "version": "3.11.7"
  }
 },
 "nbformat": 4,
 "nbformat_minor": 5
}
